{
 "cells": [
  {
   "cell_type": "code",
   "execution_count": 1,
   "metadata": {},
   "outputs": [
    {
     "name": "stderr",
     "output_type": "stream",
     "text": [
      "Using TensorFlow backend.\n"
     ]
    }
   ],
   "source": [
    "import pandas as pd \n",
    "import numpy as np \n",
    "import tensorflow as tf \n",
    "import zipfile\n",
    "from keras.layers import Dense, Reshape\n",
    "import matplotlib.pyplot as plt\n",
    "import math\n",
    "from keras.losses import *\n",
    "from keras.models import Sequential, Model\n",
    "from keras.layers import Dense, Reshape\n",
    "from keras.layers import LSTM, Flatten, Input, Embedding, concatenate, Concatenate, average, maximum, Dropout\n",
    "from sklearn.preprocessing import MinMaxScaler, StandardScaler\n",
    "from sklearn.metrics import mean_squared_error\n",
    "from sklearn.model_selection import train_test_split\n",
    "from keras import optimizers\n",
    "from keras import backend as K\n",
    "from keras.callbacks import TensorBoard"
   ]
  },
  {
   "cell_type": "code",
   "execution_count": 2,
   "metadata": {},
   "outputs": [],
   "source": [
    "def balanceFraudDataframe(df, p): #p is desired fraud/non-fraud ratio\n",
    "    dfFraud = df.loc[df['isFraud']==1,:]\n",
    "    x = len(dfFraud)\n",
    "    n = len(df)\n",
    "    numOfTimesToResample = int((p * n - x)/((1-p) * x))\n",
    "    #print(numOfTimesToResample)\n",
    "    dfBalanced = df\n",
    "    for _ in range(numOfTimesToResample):\n",
    "        dfBalanced = dfBalanced.append(dfFraud)   \n",
    "    return dfBalanced"
   ]
  },
  {
   "cell_type": "code",
   "execution_count": 3,
   "metadata": {},
   "outputs": [],
   "source": [
    "def findPercentFraud(df):\n",
    "    return len(df.loc[df.isFraud == 0, :])/len(df)"
   ]
  },
  {
   "cell_type": "code",
   "execution_count": 4,
   "metadata": {},
   "outputs": [],
   "source": [
    "df = pd.read_pickle(\"data/dataframe_train_v06.pd\")\n",
    "df_fraud = pd.read_pickle('dfFraud.pd')"
   ]
  },
  {
   "cell_type": "code",
   "execution_count": 5,
   "metadata": {},
   "outputs": [],
   "source": [
    "df['isFraud'] = df_fraud['isFraud']"
   ]
  },
  {
   "cell_type": "code",
   "execution_count": 6,
   "metadata": {},
   "outputs": [
    {
     "data": {
      "text/plain": [
       "0"
      ]
     },
     "execution_count": 6,
     "metadata": {},
     "output_type": "execute_result"
    }
   ],
   "source": [
    "df.isna().sum().sum()"
   ]
  },
  {
   "cell_type": "code",
   "execution_count": 8,
   "metadata": {},
   "outputs": [
    {
     "data": {
      "text/plain": [
       "StandardScaler(copy=True, with_mean=True, with_std=True)"
      ]
     },
     "execution_count": 8,
     "metadata": {},
     "output_type": "execute_result"
    }
   ],
   "source": [
    "#scaler = MinMaxScaler(feature_range=(0, 1))\n",
    "scaler = StandardScaler()\n",
    "scaler.fit(df.drop('isFraud', axis=1))"
   ]
  },
  {
   "cell_type": "code",
   "execution_count": 9,
   "metadata": {},
   "outputs": [],
   "source": [
    "np.random.seed(1234)\n",
    "choose = np.random.rand(len(df))\n",
    "dfTrain = df.loc[choose >= .2, :]\n",
    "dfTest = df.loc[choose < .2, :]"
   ]
  },
  {
   "cell_type": "code",
   "execution_count": 10,
   "metadata": {},
   "outputs": [
    {
     "data": {
      "text/plain": [
       "(472515, 337)"
      ]
     },
     "execution_count": 10,
     "metadata": {},
     "output_type": "execute_result"
    }
   ],
   "source": [
    "dfTrain.shape"
   ]
  },
  {
   "cell_type": "code",
   "execution_count": 11,
   "metadata": {},
   "outputs": [],
   "source": [
    "assert len(dfTrain) + len(dfTest) == len(df)"
   ]
  },
  {
   "cell_type": "code",
   "execution_count": 12,
   "metadata": {},
   "outputs": [
    {
     "name": "stdout",
     "output_type": "stream",
     "text": [
      "0.964932330190576\n",
      "0.8730815261620949\n"
     ]
    }
   ],
   "source": [
    "print(findPercentFraud(dfTrain))\n",
    "dfTrain = balanceFraudDataframe(dfTrain, .15)\n",
    "print(findPercentFraud(dfTrain))"
   ]
  },
  {
   "cell_type": "code",
   "execution_count": 13,
   "metadata": {},
   "outputs": [
    {
     "name": "stdout",
     "output_type": "stream",
     "text": [
      "0.9653209065875874\n"
     ]
    }
   ],
   "source": [
    "print(findPercentFraud(dfTest))"
   ]
  },
  {
   "cell_type": "code",
   "execution_count": 14,
   "metadata": {},
   "outputs": [],
   "source": [
    "x_train = scaler.transform(dfTrain.drop([\"isFraud\"], axis=1))\n",
    "y_train= np.array(dfTrain['isFraud'])\n",
    "\n",
    "x_test = scaler.transform(dfTest.drop([\"isFraud\"], axis=1))\n",
    "y_test = np.array(dfTest['isFraud'])"
   ]
  },
  {
   "cell_type": "code",
   "execution_count": 15,
   "metadata": {},
   "outputs": [
    {
     "name": "stdout",
     "output_type": "stream",
     "text": [
      "Epoch 1/50\n",
      " - 14s - loss: 0.2326 - acc: 0.9148\n",
      "Epoch 2/50\n",
      " - 13s - loss: 0.1781 - acc: 0.9360\n",
      "Epoch 3/50\n",
      " - 13s - loss: 0.1498 - acc: 0.9458\n",
      "Epoch 4/50\n",
      " - 13s - loss: 0.1295 - acc: 0.9526\n",
      "Epoch 5/50\n",
      " - 13s - loss: 0.1145 - acc: 0.9579\n",
      "Epoch 6/50\n",
      " - 13s - loss: 0.1025 - acc: 0.9616\n",
      "Epoch 7/50\n",
      " - 13s - loss: 0.0930 - acc: 0.9651\n",
      "Epoch 8/50\n",
      " - 13s - loss: 0.0848 - acc: 0.9679\n",
      "Epoch 9/50\n",
      " - 13s - loss: 0.0786 - acc: 0.9699\n",
      "Epoch 10/50\n",
      " - 13s - loss: 0.0725 - acc: 0.9721\n",
      "Epoch 11/50\n",
      " - 13s - loss: 0.0686 - acc: 0.9737\n",
      "Epoch 12/50\n",
      " - 13s - loss: 0.0646 - acc: 0.9749\n",
      "Epoch 13/50\n",
      " - 13s - loss: 0.0614 - acc: 0.9764\n",
      "Epoch 14/50\n",
      " - 13s - loss: 0.0587 - acc: 0.9775\n",
      "Epoch 15/50\n",
      " - 13s - loss: 0.0561 - acc: 0.9782\n",
      "Epoch 16/50\n",
      " - 13s - loss: 0.0530 - acc: 0.9794\n",
      "Epoch 17/50\n",
      " - 13s - loss: 0.0503 - acc: 0.9806\n",
      "Epoch 18/50\n",
      " - 13s - loss: 0.0492 - acc: 0.9809\n",
      "Epoch 19/50\n",
      " - 13s - loss: 0.0472 - acc: 0.9815\n",
      "Epoch 20/50\n",
      " - 13s - loss: 0.0459 - acc: 0.9823\n",
      "Epoch 21/50\n",
      " - 13s - loss: 0.0443 - acc: 0.9828\n",
      "Epoch 22/50\n",
      " - 13s - loss: 0.0428 - acc: 0.9832\n",
      "Epoch 23/50\n",
      " - 13s - loss: 0.0413 - acc: 0.9840\n",
      "Epoch 24/50\n",
      " - 13s - loss: 0.0404 - acc: 0.9843\n",
      "Epoch 25/50\n",
      " - 13s - loss: 0.0391 - acc: 0.9846\n",
      "Epoch 26/50\n",
      " - 13s - loss: 0.0376 - acc: 0.9853\n",
      "Epoch 27/50\n",
      " - 13s - loss: 0.0375 - acc: 0.9855\n",
      "Epoch 28/50\n",
      " - 13s - loss: 0.0361 - acc: 0.9862\n",
      "Epoch 29/50\n",
      " - 13s - loss: 0.0350 - acc: 0.9864\n",
      "Epoch 30/50\n",
      " - 13s - loss: 0.0344 - acc: 0.9866\n",
      "Epoch 31/50\n",
      " - 13s - loss: 0.0340 - acc: 0.9868\n",
      "Epoch 32/50\n",
      " - 13s - loss: 0.0333 - acc: 0.9871\n",
      "Epoch 33/50\n",
      " - 13s - loss: 0.0326 - acc: 0.9872\n",
      "Epoch 34/50\n",
      " - 13s - loss: 0.0311 - acc: 0.9879\n",
      "Epoch 35/50\n",
      " - 13s - loss: 0.0307 - acc: 0.9881\n",
      "Epoch 36/50\n",
      " - 13s - loss: 0.0300 - acc: 0.9882\n",
      "Epoch 37/50\n",
      " - 13s - loss: 0.0301 - acc: 0.9882\n",
      "Epoch 38/50\n",
      " - 13s - loss: 0.0296 - acc: 0.9885\n",
      "Epoch 39/50\n",
      " - 13s - loss: 0.0289 - acc: 0.9888\n",
      "Epoch 40/50\n",
      " - 13s - loss: 0.0279 - acc: 0.9892\n",
      "Epoch 41/50\n",
      " - 13s - loss: 0.0274 - acc: 0.9894\n",
      "Epoch 42/50\n",
      " - 13s - loss: 0.0275 - acc: 0.9893\n",
      "Epoch 43/50\n",
      " - 13s - loss: 0.0267 - acc: 0.9896\n",
      "Epoch 44/50\n",
      " - 13s - loss: 0.0264 - acc: 0.9896\n",
      "Epoch 45/50\n",
      " - 13s - loss: 0.0262 - acc: 0.9898\n",
      "Epoch 46/50\n",
      " - 13s - loss: 0.0258 - acc: 0.9900\n",
      "Epoch 47/50\n",
      " - 13s - loss: 0.0251 - acc: 0.9901\n",
      "Epoch 48/50\n",
      " - 13s - loss: 0.0249 - acc: 0.9903\n",
      "Epoch 49/50\n",
      " - 13s - loss: 0.0242 - acc: 0.9907\n",
      "Epoch 50/50\n",
      " - 13s - loss: 0.0237 - acc: 0.9907\n"
     ]
    },
    {
     "data": {
      "text/plain": [
       "<keras.callbacks.History at 0x7f602daa7b38>"
      ]
     },
     "execution_count": 15,
     "metadata": {},
     "output_type": "execute_result"
    }
   ],
   "source": [
    "from sklearn.utils import class_weight\n",
    "\n",
    "inputs = Input(shape=(336,))\n",
    "# We stack a deep densely-connected network on top\n",
    "x = Dense(600, activation='relu', use_bias=True)(inputs)\n",
    "x = Dense(600,  activation='relu', use_bias=True)(x)\n",
    "x = Dropout(.2)(x)\n",
    "x = Dense(600, activation='relu', use_bias=True)(x)\n",
    "x = Dropout(.1)(x)\n",
    "x = Dense(600, activation='relu', use_bias=True)(x)\n",
    "x = Dropout(.2)(x)\n",
    "x = Dense(600, activation='relu', use_bias=True)(x)\n",
    "x = Dense(200, activation='relu', use_bias=True)(x)\n",
    "# And finally we add the main logistic regression layer\n",
    "output = Dense(1 , activation='sigmoid', name='ANN_output')(x)\n",
    "\n",
    "adam = optimizers.Adam(lr=0.001)\n",
    "model = Model(inputs=inputs, outputs = output)\n",
    "\n",
    "\n",
    "#weights = class_weight.compute_class_weight('balanced',\n",
    "#                                            np.unique(y_train),\n",
    "#                                            y_train)\n",
    "# weights = [4, 1]\n",
    "from sklearn.metrics import roc_auc_score\n",
    "\n",
    "model.compile(loss=\"binary_crossentropy\", optimizer=adam, metrics=['accuracy', ])\n",
    "model.fit(x_train, y_train, epochs=50, batch_size=1024, verbose=2, )#class_weight= weights)\n"
   ]
  },
  {
   "cell_type": "code",
   "execution_count": 24,
   "metadata": {},
   "outputs": [
    {
     "name": "stdout",
     "output_type": "stream",
     "text": [
      "Epoch 1/50\n",
      " - 13s - loss: 0.0246 - acc: 0.9902\n",
      "Epoch 2/50\n",
      " - 13s - loss: 0.0248 - acc: 0.9903\n",
      "Epoch 3/50\n",
      " - 13s - loss: 0.0237 - acc: 0.9907\n",
      "Epoch 4/50\n",
      " - 13s - loss: 0.0240 - acc: 0.9906\n",
      "Epoch 5/50\n",
      " - 13s - loss: 0.0241 - acc: 0.9906\n",
      "Epoch 6/50\n",
      " - 13s - loss: 0.0239 - acc: 0.9906\n",
      "Epoch 7/50\n",
      " - 13s - loss: 0.0237 - acc: 0.9906\n",
      "Epoch 8/50\n",
      " - 13s - loss: 0.0234 - acc: 0.9908\n",
      "Epoch 9/50\n",
      " - 13s - loss: 0.0234 - acc: 0.9908\n",
      "Epoch 10/50\n",
      " - 13s - loss: 0.0229 - acc: 0.9909\n",
      "Epoch 11/50\n",
      " - 13s - loss: 0.0232 - acc: 0.9910\n",
      "Epoch 12/50\n",
      " - 13s - loss: 0.0228 - acc: 0.9910\n",
      "Epoch 13/50\n",
      " - 13s - loss: 0.0229 - acc: 0.9910\n",
      "Epoch 14/50\n",
      " - 13s - loss: 0.0228 - acc: 0.9911\n",
      "Epoch 15/50\n",
      " - 13s - loss: 0.0229 - acc: 0.9910\n",
      "Epoch 16/50\n",
      " - 13s - loss: 0.0221 - acc: 0.9913\n",
      "Epoch 17/50\n",
      " - 13s - loss: 0.0224 - acc: 0.9912\n",
      "Epoch 18/50\n",
      " - 13s - loss: 0.0221 - acc: 0.9914\n",
      "Epoch 19/50\n",
      " - 13s - loss: 0.0225 - acc: 0.9911\n",
      "Epoch 20/50\n",
      " - 13s - loss: 0.0216 - acc: 0.9916\n",
      "Epoch 21/50\n",
      " - 13s - loss: 0.0220 - acc: 0.9914\n",
      "Epoch 22/50\n",
      " - 13s - loss: 0.0215 - acc: 0.9915\n",
      "Epoch 23/50\n",
      " - 13s - loss: 0.0217 - acc: 0.9917\n",
      "Epoch 24/50\n",
      " - 13s - loss: 0.0213 - acc: 0.9916\n",
      "Epoch 25/50\n",
      " - 13s - loss: 0.0217 - acc: 0.9915\n",
      "Epoch 26/50\n",
      " - 13s - loss: 0.0213 - acc: 0.9916\n",
      "Epoch 27/50\n",
      " - 13s - loss: 0.0211 - acc: 0.9918\n",
      "Epoch 28/50\n",
      " - 13s - loss: 0.0207 - acc: 0.9918\n",
      "Epoch 29/50\n",
      " - 13s - loss: 0.0212 - acc: 0.9918\n",
      "Epoch 30/50\n",
      " - 13s - loss: 0.0209 - acc: 0.9918\n",
      "Epoch 31/50\n",
      " - 13s - loss: 0.0211 - acc: 0.9918\n",
      "Epoch 32/50\n",
      " - 13s - loss: 0.0205 - acc: 0.9920\n",
      "Epoch 33/50\n",
      " - 13s - loss: 0.0203 - acc: 0.9920\n",
      "Epoch 34/50\n",
      " - 13s - loss: 0.0200 - acc: 0.9921\n",
      "Epoch 35/50\n",
      " - 13s - loss: 0.0204 - acc: 0.9919\n",
      "Epoch 36/50\n",
      " - 13s - loss: 0.0202 - acc: 0.9920\n",
      "Epoch 37/50\n",
      " - 13s - loss: 0.0196 - acc: 0.9924\n",
      "Epoch 38/50\n",
      " - 13s - loss: 0.0199 - acc: 0.9921\n",
      "Epoch 39/50\n",
      " - 13s - loss: 0.0200 - acc: 0.9921\n",
      "Epoch 40/50\n",
      " - 13s - loss: 0.0196 - acc: 0.9923\n",
      "Epoch 41/50\n",
      " - 13s - loss: 0.0201 - acc: 0.9921\n",
      "Epoch 42/50\n",
      " - 13s - loss: 0.0198 - acc: 0.9923\n",
      "Epoch 43/50\n",
      " - 13s - loss: 0.0193 - acc: 0.9924\n",
      "Epoch 44/50\n",
      " - 13s - loss: 0.0197 - acc: 0.9922\n",
      "Epoch 45/50\n",
      " - 13s - loss: 0.0191 - acc: 0.9926\n",
      "Epoch 46/50\n",
      " - 13s - loss: 0.0191 - acc: 0.9925\n",
      "Epoch 47/50\n",
      " - 13s - loss: 0.0192 - acc: 0.9924\n",
      "Epoch 48/50\n",
      " - 13s - loss: 0.0190 - acc: 0.9925\n",
      "Epoch 49/50\n",
      " - 13s - loss: 0.0188 - acc: 0.9925\n",
      "Epoch 50/50\n",
      " - 13s - loss: 0.0191 - acc: 0.9926\n"
     ]
    },
    {
     "data": {
      "text/plain": [
       "<keras.callbacks.History at 0x7fbb21045438>"
      ]
     },
     "execution_count": 24,
     "metadata": {},
     "output_type": "execute_result"
    }
   ],
   "source": [
    "#model.compile(loss=\"binary_crossentropy\", optimizer=adam, metrics=['accuracy' ])\n",
    "\n",
    "model.fit(x_train, y_train, epochs=50, batch_size=1024, verbose=2, )#class_weight= weights)\n"
   ]
  },
  {
   "cell_type": "code",
   "execution_count": 16,
   "metadata": {},
   "outputs": [
    {
     "name": "stdout",
     "output_type": "stream",
     "text": [
      "118025/118025 [==============================] - 4s 34us/step\n"
     ]
    },
    {
     "data": {
      "text/plain": [
       "[0.13045947130513072, 0.97987714467324383]"
      ]
     },
     "execution_count": 16,
     "metadata": {},
     "output_type": "execute_result"
    }
   ],
   "source": [
    "model.evaluate(x_test, y_test)\n"
   ]
  },
  {
   "cell_type": "code",
   "execution_count": 17,
   "metadata": {},
   "outputs": [
    {
     "data": {
      "text/plain": [
       "0.93735104391311241"
      ]
     },
     "execution_count": 17,
     "metadata": {},
     "output_type": "execute_result"
    }
   ],
   "source": [
    "from sklearn.metrics import roc_auc_score\n",
    "roc_auc_score(y_test, model.predict(x_test))"
   ]
  },
  {
   "cell_type": "code",
   "execution_count": 21,
   "metadata": {},
   "outputs": [],
   "source": [
    "model.save(\"model_sub2.h5\")"
   ]
  },
  {
   "cell_type": "code",
   "execution_count": 22,
   "metadata": {},
   "outputs": [
    {
     "data": {
      "text/html": [
       "<div>\n",
       "<style scoped>\n",
       "    .dataframe tbody tr th:only-of-type {\n",
       "        vertical-align: middle;\n",
       "    }\n",
       "\n",
       "    .dataframe tbody tr th {\n",
       "        vertical-align: top;\n",
       "    }\n",
       "\n",
       "    .dataframe thead th {\n",
       "        text-align: right;\n",
       "    }\n",
       "</style>\n",
       "<table border=\"1\" class=\"dataframe\">\n",
       "  <thead>\n",
       "    <tr style=\"text-align: right;\">\n",
       "      <th></th>\n",
       "      <th>isFraud</th>\n",
       "    </tr>\n",
       "    <tr>\n",
       "      <th>TransactionID</th>\n",
       "      <th></th>\n",
       "    </tr>\n",
       "  </thead>\n",
       "  <tbody>\n",
       "    <tr>\n",
       "      <td>3663549</td>\n",
       "      <td>1.116944e-10</td>\n",
       "    </tr>\n",
       "    <tr>\n",
       "      <td>3663550</td>\n",
       "      <td>1.712695e-27</td>\n",
       "    </tr>\n",
       "    <tr>\n",
       "      <td>3663551</td>\n",
       "      <td>0.000000e+00</td>\n",
       "    </tr>\n",
       "    <tr>\n",
       "      <td>3663552</td>\n",
       "      <td>2.811779e-22</td>\n",
       "    </tr>\n",
       "    <tr>\n",
       "      <td>3663553</td>\n",
       "      <td>5.339744e-13</td>\n",
       "    </tr>\n",
       "    <tr>\n",
       "      <td>...</td>\n",
       "      <td>...</td>\n",
       "    </tr>\n",
       "    <tr>\n",
       "      <td>4170235</td>\n",
       "      <td>2.363108e-08</td>\n",
       "    </tr>\n",
       "    <tr>\n",
       "      <td>4170236</td>\n",
       "      <td>4.910627e-27</td>\n",
       "    </tr>\n",
       "    <tr>\n",
       "      <td>4170237</td>\n",
       "      <td>6.034514e-33</td>\n",
       "    </tr>\n",
       "    <tr>\n",
       "      <td>4170238</td>\n",
       "      <td>9.737257e-29</td>\n",
       "    </tr>\n",
       "    <tr>\n",
       "      <td>4170239</td>\n",
       "      <td>7.419460e-08</td>\n",
       "    </tr>\n",
       "  </tbody>\n",
       "</table>\n",
       "<p>506691 rows × 1 columns</p>\n",
       "</div>"
      ],
      "text/plain": [
       "                    isFraud\n",
       "TransactionID              \n",
       "3663549        1.116944e-10\n",
       "3663550        1.712695e-27\n",
       "3663551        0.000000e+00\n",
       "3663552        2.811779e-22\n",
       "3663553        5.339744e-13\n",
       "...                     ...\n",
       "4170235        2.363108e-08\n",
       "4170236        4.910627e-27\n",
       "4170237        6.034514e-33\n",
       "4170238        9.737257e-29\n",
       "4170239        7.419460e-08\n",
       "\n",
       "[506691 rows x 1 columns]"
      ]
     },
     "execution_count": 22,
     "metadata": {},
     "output_type": "execute_result"
    }
   ],
   "source": [
    "df_subm = pd.read_pickle('./data/dataframe_test_v05.pd')\n",
    "x_sub = scaler.transform(df_subm)\n",
    "y_pred = model.predict(x_sub)\n",
    "dfToSubmit = pd.DataFrame(y_pred)\n",
    "dfToSubmit.columns = ['isFraud']\n",
    "dfToSubmit.index = df_subm.index\n",
    "dfToSubmit"
   ]
  },
  {
   "cell_type": "code",
   "execution_count": 23,
   "metadata": {},
   "outputs": [],
   "source": [
    "dfToSubmit.to_csv('./final_submission.csv')"
   ]
  },
  {
   "cell_type": "code",
   "execution_count": null,
   "metadata": {},
   "outputs": [],
   "source": [
    "trainPredict = model.predict(x_train)\n",
    "testPredict = model.predict(x_test)\n",
    "# calculate root mean squared error\n",
    "trainScore = math.sqrt(mean_squared_error(y_train, trainPredict))\n",
    "#trainScore = numpy.mean(numpy.abs((y_train - trainPredict))/y_train)\n",
    "\n",
    "print('Train Score: %.2f MAPE' % (trainScore))\n",
    "testScore = math.sqrt(mean_squared_error(y_test, testPredict))\n",
    "#testScore =  numpy.mean(numpy.abs((y_test - testPredict))/y_test)\n",
    "\n",
    "print('Test Score: %.2f MAPE' % (testScore))\n",
    "\n",
    "\n"
   ]
  },
  {
   "cell_type": "code",
   "execution_count": null,
   "metadata": {},
   "outputs": [],
   "source": []
  },
  {
   "cell_type": "code",
   "execution_count": 6,
   "metadata": {},
   "outputs": [],
   "source": [
    "from imblearn.under_sampling import TomekLinks\n",
    "sampler = TomekLinks()"
   ]
  },
  {
   "cell_type": "code",
   "execution_count": 11,
   "metadata": {},
   "outputs": [
    {
     "name": "stdout",
     "output_type": "stream",
     "text": [
      "0\n",
      "1\n",
      "2\n",
      "3\n",
      "4\n",
      "5\n",
      "6\n",
      "7\n",
      "8\n",
      "9\n"
     ]
    }
   ],
   "source": [
    "n = 10\n",
    "l = df.shape[0]//n\n",
    "X_ress = []\n",
    "y_ress = []\n",
    "for i in range(n):\n",
    "    print(i)\n",
    "    X_res, y_res = sampler.fit_resample(df[i*l:(i+1)*l], df_fraud[i*l:(i+1)*l].values.reshape(-1))\n",
    "    X_ress.append(X_res)\n",
    "    y_ress.append(y_res)"
   ]
  },
  {
   "cell_type": "code",
   "execution_count": 12,
   "metadata": {},
   "outputs": [],
   "source": [
    "X_res = np.vstack(X_ress)\n",
    "y_res = np.hstack(y_ress)"
   ]
  },
  {
   "cell_type": "code",
   "execution_count": 13,
   "metadata": {},
   "outputs": [
    {
     "data": {
      "text/plain": [
       "(583698, 716)"
      ]
     },
     "execution_count": 13,
     "metadata": {},
     "output_type": "execute_result"
    }
   ],
   "source": [
    "X_res.shape"
   ]
  },
  {
   "cell_type": "code",
   "execution_count": null,
   "metadata": {},
   "outputs": [],
   "source": [
    "X_res, y_res = sampler.fit_resample(df, df_fraud.values.reshape(-1))"
   ]
  },
  {
   "cell_type": "code",
   "execution_count": 9,
   "metadata": {},
   "outputs": [
    {
     "data": {
      "text/plain": [
       "0.9884089138754361"
      ]
     },
     "execution_count": 9,
     "metadata": {},
     "output_type": "execute_result"
    }
   ],
   "source": [
    "X_res.shape[0]/df.shape[0]"
   ]
  },
  {
   "cell_type": "code",
   "execution_count": 10,
   "metadata": {},
   "outputs": [],
   "source": [
    "import pickle\n",
    "with open('./data/dataframe_train_v07.np', 'wb') as f:\n",
    "    pickle.dump(X_res, f)"
   ]
  },
  {
   "cell_type": "code",
   "execution_count": 11,
   "metadata": {},
   "outputs": [],
   "source": [
    "with open('./dfFraud.np', 'wb') as f:\n",
    "    pickle.dump(y_res, f)"
   ]
  },
  {
   "cell_type": "code",
   "execution_count": 80,
   "metadata": {},
   "outputs": [],
   "source": [
    "df_fraud_res = pd.DataFrame(y_res, X_res[:,0].astype('int32'), df_fraud.columns)#, [str(i) for i in df_fraud.dtypes])"
   ]
  },
  {
   "cell_type": "code",
   "execution_count": 79,
   "metadata": {},
   "outputs": [],
   "source": [
    "df_res = pd.DataFrame?\n",
    "#(X_res, X_res[:,0].astype('int32'), df.columns, dtype="
   ]
  },
  {
   "cell_type": "code",
   "execution_count": null,
   "metadata": {},
   "outputs": [],
   "source": [
    "df_res = pd.DataFrame"
   ]
  },
  {
   "cell_type": "code",
   "execution_count": 83,
   "metadata": {},
   "outputs": [],
   "source": [
    "for column in df.columns:\n",
    "    df_res[column] = df_res[column].astype(df[column].dtypes)"
   ]
  },
  {
   "cell_type": "code",
   "execution_count": 85,
   "metadata": {},
   "outputs": [],
   "source": [
    "df_res.to_pickle('data/dataframe_train_v07.pd')"
   ]
  },
  {
   "cell_type": "code",
   "execution_count": 89,
   "metadata": {},
   "outputs": [],
   "source": [
    "df_fraud_res.to_pickle('./dfFraud_v07.pd')"
   ]
  },
  {
   "cell_type": "code",
   "execution_count": 31,
   "metadata": {},
   "outputs": [
    {
     "data": {
      "text/plain": [
       "TransactionID\n",
       "2987000       86400\n",
       "2987001       86401\n",
       "2987002       86469\n",
       "2987003       86499\n",
       "2987004       86506\n",
       "             ...   \n",
       "3577535    15811047\n",
       "3577536    15811049\n",
       "3577537    15811079\n",
       "3577538    15811088\n",
       "3577539    15811131\n",
       "Name: TransactionDT, Length: 590540, dtype: int64"
      ]
     },
     "execution_count": 31,
     "metadata": {},
     "output_type": "execute_result"
    }
   ],
   "source": []
  },
  {
   "cell_type": "code",
   "execution_count": 35,
   "metadata": {},
   "outputs": [
    {
     "ename": "AttributeError",
     "evalue": "'DataFrame' object has no attribute 'dtype'",
     "output_type": "error",
     "traceback": [
      "\u001b[0;31m---------------------------------------------------------------------------\u001b[0m",
      "\u001b[0;31mAttributeError\u001b[0m                            Traceback (most recent call last)",
      "\u001b[0;32m<ipython-input-35-b959c06452a1>\u001b[0m in \u001b[0;36m<module>\u001b[0;34m()\u001b[0m\n\u001b[0;32m----> 1\u001b[0;31m \u001b[0mdf\u001b[0m\u001b[0;34m.\u001b[0m\u001b[0mdtype\u001b[0m\u001b[0;34m\u001b[0m\u001b[0;34m\u001b[0m\u001b[0m\n\u001b[0m",
      "\u001b[0;32m~/anaconda3/envs/tensorCpu/lib/python3.6/site-packages/pandas/core/generic.py\u001b[0m in \u001b[0;36m__getattr__\u001b[0;34m(self, name)\u001b[0m\n\u001b[1;32m   5177\u001b[0m             \u001b[0;32mif\u001b[0m \u001b[0mself\u001b[0m\u001b[0;34m.\u001b[0m\u001b[0m_info_axis\u001b[0m\u001b[0;34m.\u001b[0m\u001b[0m_can_hold_identifiers_and_holds_name\u001b[0m\u001b[0;34m(\u001b[0m\u001b[0mname\u001b[0m\u001b[0;34m)\u001b[0m\u001b[0;34m:\u001b[0m\u001b[0;34m\u001b[0m\u001b[0;34m\u001b[0m\u001b[0m\n\u001b[1;32m   5178\u001b[0m                 \u001b[0;32mreturn\u001b[0m \u001b[0mself\u001b[0m\u001b[0;34m[\u001b[0m\u001b[0mname\u001b[0m\u001b[0;34m]\u001b[0m\u001b[0;34m\u001b[0m\u001b[0;34m\u001b[0m\u001b[0m\n\u001b[0;32m-> 5179\u001b[0;31m             \u001b[0;32mreturn\u001b[0m \u001b[0mobject\u001b[0m\u001b[0;34m.\u001b[0m\u001b[0m__getattribute__\u001b[0m\u001b[0;34m(\u001b[0m\u001b[0mself\u001b[0m\u001b[0;34m,\u001b[0m \u001b[0mname\u001b[0m\u001b[0;34m)\u001b[0m\u001b[0;34m\u001b[0m\u001b[0;34m\u001b[0m\u001b[0m\n\u001b[0m\u001b[1;32m   5180\u001b[0m \u001b[0;34m\u001b[0m\u001b[0m\n\u001b[1;32m   5181\u001b[0m     \u001b[0;32mdef\u001b[0m \u001b[0m__setattr__\u001b[0m\u001b[0;34m(\u001b[0m\u001b[0mself\u001b[0m\u001b[0;34m,\u001b[0m \u001b[0mname\u001b[0m\u001b[0;34m,\u001b[0m \u001b[0mvalue\u001b[0m\u001b[0;34m)\u001b[0m\u001b[0;34m:\u001b[0m\u001b[0;34m\u001b[0m\u001b[0;34m\u001b[0m\u001b[0m\n",
      "\u001b[0;31mAttributeError\u001b[0m: 'DataFrame' object has no attribute 'dtype'"
     ]
    }
   ],
   "source": [
    "df.dtype"
   ]
  },
  {
   "cell_type": "code",
   "execution_count": null,
   "metadata": {},
   "outputs": [],
   "source": []
  }
 ],
 "metadata": {
  "kernelspec": {
   "display_name": "Python 3",
   "language": "python",
   "name": "python3"
  },
  "language_info": {
   "codemirror_mode": {
    "name": "ipython",
    "version": 3
   },
   "file_extension": ".py",
   "mimetype": "text/x-python",
   "name": "python",
   "nbconvert_exporter": "python",
   "pygments_lexer": "ipython3",
   "version": "3.6.9"
  }
 },
 "nbformat": 4,
 "nbformat_minor": 2
}
