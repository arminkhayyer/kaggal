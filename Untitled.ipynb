{
 "cells": [
  {
   "cell_type": "code",
   "execution_count": 2,
   "metadata": {},
   "outputs": [],
   "source": [
    "import pandas as pd\n",
    "import numpy as np\n",
    "import pickle"
   ]
  },
  {
   "cell_type": "code",
   "execution_count": 3,
   "metadata": {},
   "outputs": [],
   "source": [
    "with open('data/cleaned_input.np', 'rb') as f:\n",
    "    a1 = pickle.load(f)\n",
    "with open('data/cleaned_input_transaction.np', 'rb') as f:\n",
    "    a2 = pickle.load(f)"
   ]
  },
  {
   "cell_type": "code",
   "execution_count": 4,
   "metadata": {},
   "outputs": [],
   "source": [
    "with open('data/cleaned_colunms', 'rb') as f:\n",
    "    c1 = pickle.load(f)\n",
    "with open('data/cleaned_colunms_transaction', 'rb') as f:\n",
    "    c2 = pickle.load(f)"
   ]
  },
  {
   "cell_type": "code",
   "execution_count": 5,
   "metadata": {},
   "outputs": [
    {
     "data": {
      "text/plain": [
       "(590540, 271)"
      ]
     },
     "execution_count": 5,
     "metadata": {},
     "output_type": "execute_result"
    }
   ],
   "source": [
    "a1.shape"
   ]
  },
  {
   "cell_type": "code",
   "execution_count": 6,
   "metadata": {},
   "outputs": [
    {
     "data": {
      "text/plain": [
       "(144233, 100)"
      ]
     },
     "execution_count": 6,
     "metadata": {},
     "output_type": "execute_result"
    }
   ],
   "source": [
    "a2.shape"
   ]
  },
  {
   "cell_type": "code",
   "execution_count": 7,
   "metadata": {},
   "outputs": [],
   "source": [
    "df1 = pd.DataFrame(a1, columns=c1)\n",
    "df2 = pd.DataFrame(a2, columns=c2)"
   ]
  },
  {
   "cell_type": "code",
   "execution_count": 14,
   "metadata": {},
   "outputs": [],
   "source": [
    "df1['TransactionID'] = df1.TransactionID.astype('int32')\n",
    "df2['TransactionID'] = df2.TransactionID.astype('int32')"
   ]
  },
  {
   "cell_type": "code",
   "execution_count": 19,
   "metadata": {},
   "outputs": [],
   "source": [
    "df1.index = df1.TransactionID"
   ]
  },
  {
   "cell_type": "code",
   "execution_count": 20,
   "metadata": {},
   "outputs": [],
   "source": [
    "df2.index = df2.TransactionID"
   ]
  },
  {
   "cell_type": "code",
   "execution_count": 25,
   "metadata": {},
   "outputs": [],
   "source": [
    "df = df1.join(df2, lsuffix='_caller', rsuffix='_other')"
   ]
  },
  {
   "cell_type": "code",
   "execution_count": 28,
   "metadata": {},
   "outputs": [
    {
     "data": {
      "text/plain": [
       "TransactionID\n",
       "2987000          NaN\n",
       "2987001          NaN\n",
       "2987002          NaN\n",
       "2987003          NaN\n",
       "2987004    2987004.0\n",
       "2987005          NaN\n",
       "2987006          NaN\n",
       "2987007          NaN\n",
       "2987008    2987008.0\n",
       "2987009          NaN\n",
       "2987010    2987010.0\n",
       "2987011    2987011.0\n",
       "2987012          NaN\n",
       "2987013          NaN\n",
       "2987014          NaN\n",
       "2987015          NaN\n",
       "2987016    2987016.0\n",
       "2987017    2987017.0\n",
       "2987018          NaN\n",
       "2987019          NaN\n",
       "2987020          NaN\n",
       "2987021          NaN\n",
       "2987022    2987022.0\n",
       "2987023          NaN\n",
       "2987024          NaN\n",
       "2987025          NaN\n",
       "2987026          NaN\n",
       "2987027          NaN\n",
       "2987028          NaN\n",
       "2987029          NaN\n",
       "             ...    \n",
       "3577510          NaN\n",
       "3577511          NaN\n",
       "3577512          NaN\n",
       "3577513          NaN\n",
       "3577514          NaN\n",
       "3577515          NaN\n",
       "3577516          NaN\n",
       "3577517          NaN\n",
       "3577518          NaN\n",
       "3577519          NaN\n",
       "3577520          NaN\n",
       "3577521    3577521.0\n",
       "3577522          NaN\n",
       "3577523          NaN\n",
       "3577524          NaN\n",
       "3577525          NaN\n",
       "3577526    3577526.0\n",
       "3577527          NaN\n",
       "3577528          NaN\n",
       "3577529    3577529.0\n",
       "3577530          NaN\n",
       "3577531    3577531.0\n",
       "3577532          NaN\n",
       "3577533          NaN\n",
       "3577534    3577534.0\n",
       "3577535          NaN\n",
       "3577536          NaN\n",
       "3577537          NaN\n",
       "3577538          NaN\n",
       "3577539          NaN\n",
       "Name: TransactionID_other, Length: 590540, dtype: float64"
      ]
     },
     "execution_count": 28,
     "metadata": {},
     "output_type": "execute_result"
    }
   ],
   "source": [
    "df['TransactionID_other']"
   ]
  },
  {
   "cell_type": "code",
   "execution_count": 29,
   "metadata": {},
   "outputs": [
    {
     "data": {
      "text/plain": [
       "TransactionID\n",
       "2987000     NaN\n",
       "2987001     NaN\n",
       "2987002     NaN\n",
       "2987003     NaN\n",
       "2987004     0.0\n",
       "2987005     NaN\n",
       "2987006     NaN\n",
       "2987007     NaN\n",
       "2987008    -5.0\n",
       "2987009     NaN\n",
       "2987010    -5.0\n",
       "2987011    -5.0\n",
       "2987012     NaN\n",
       "2987013     NaN\n",
       "2987014     NaN\n",
       "2987015     NaN\n",
       "2987016     0.0\n",
       "2987017    -5.0\n",
       "2987018     NaN\n",
       "2987019     NaN\n",
       "2987020     NaN\n",
       "2987021     NaN\n",
       "2987022   -15.0\n",
       "2987023     NaN\n",
       "2987024     NaN\n",
       "2987025     NaN\n",
       "2987026     NaN\n",
       "2987027     NaN\n",
       "2987028     NaN\n",
       "2987029     NaN\n",
       "           ... \n",
       "3577510     NaN\n",
       "3577511     NaN\n",
       "3577512     NaN\n",
       "3577513     NaN\n",
       "3577514     NaN\n",
       "3577515     NaN\n",
       "3577516     NaN\n",
       "3577517     NaN\n",
       "3577518     NaN\n",
       "3577519     NaN\n",
       "3577520     NaN\n",
       "3577521   -15.0\n",
       "3577522     NaN\n",
       "3577523     NaN\n",
       "3577524     NaN\n",
       "3577525     NaN\n",
       "3577526    -5.0\n",
       "3577527     NaN\n",
       "3577528     NaN\n",
       "3577529   -20.0\n",
       "3577530     NaN\n",
       "3577531    -5.0\n",
       "3577532     NaN\n",
       "3577533     NaN\n",
       "3577534   -45.0\n",
       "3577535     NaN\n",
       "3577536     NaN\n",
       "3577537     NaN\n",
       "3577538     NaN\n",
       "3577539     NaN\n",
       "Name: id_01, Length: 590540, dtype: float32"
      ]
     },
     "execution_count": 29,
     "metadata": {},
     "output_type": "execute_result"
    }
   ],
   "source": [
    "df['id_01']"
   ]
  },
  {
   "cell_type": "code",
   "execution_count": 30,
   "metadata": {},
   "outputs": [
    {
     "data": {
      "text/plain": [
       "TransactionID\n",
       "2987004     70787.000000\n",
       "2987008     98945.000000\n",
       "2987010    191631.000000\n",
       "2987011    221832.000000\n",
       "2987016      7460.000000\n",
       "2987017     61141.000000\n",
       "2987022    174716.578125\n",
       "2987038     31964.000000\n",
       "2987040    116098.000000\n",
       "2987048    257037.000000\n",
       "2987049    287959.000000\n",
       "2987057     88525.000000\n",
       "2987066     54927.000000\n",
       "2987069     69542.000000\n",
       "2987070    132356.000000\n",
       "2987072    275611.000000\n",
       "2987074    419136.000000\n",
       "2987084    436352.000000\n",
       "2987093     34810.000000\n",
       "2987099    129080.000000\n",
       "2987100    264818.000000\n",
       "2987101     49557.000000\n",
       "2987104     30696.000000\n",
       "2987105    194580.000000\n",
       "2987108    174716.578125\n",
       "2987111    252899.000000\n",
       "2987114    190935.000000\n",
       "2987119     23923.000000\n",
       "2987121     18305.000000\n",
       "2987125     32876.000000\n",
       "               ...      \n",
       "3577354    229668.000000\n",
       "3577364    183132.000000\n",
       "3577365    112037.000000\n",
       "3577368    214747.000000\n",
       "3577384     50886.000000\n",
       "3577397    313942.000000\n",
       "3577410    211823.000000\n",
       "3577418    118160.000000\n",
       "3577437     72127.000000\n",
       "3577440     76483.000000\n",
       "3577442     89189.000000\n",
       "3577445    107251.000000\n",
       "3577447     43053.000000\n",
       "3577451    130543.000000\n",
       "3577465    111397.000000\n",
       "3577469     62155.000000\n",
       "3577472    345613.000000\n",
       "3577476     81665.000000\n",
       "3577478    109718.000000\n",
       "3577486    599833.000000\n",
       "3577495     56061.000000\n",
       "3577499     89753.000000\n",
       "3577501     59763.000000\n",
       "3577506     82599.000000\n",
       "3577509    253305.000000\n",
       "3577521    145955.000000\n",
       "3577526    172059.000000\n",
       "3577529    632381.000000\n",
       "3577531     55528.000000\n",
       "3577534    339406.000000\n",
       "Name: id_02, Length: 144233, dtype: float32"
      ]
     },
     "execution_count": 30,
     "metadata": {},
     "output_type": "execute_result"
    }
   ],
   "source": [
    "df2['id_02']"
   ]
  },
  {
   "cell_type": "code",
   "execution_count": null,
   "metadata": {},
   "outputs": [],
   "source": []
  }
 ],
 "metadata": {
  "kernelspec": {
   "display_name": "Python 3",
   "language": "python",
   "name": "python3"
  },
  "language_info": {
   "codemirror_mode": {
    "name": "ipython",
    "version": 3
   },
   "file_extension": ".py",
   "mimetype": "text/x-python",
   "name": "python",
   "nbconvert_exporter": "python",
   "pygments_lexer": "ipython3",
   "version": "3.5.2"
  }
 },
 "nbformat": 4,
 "nbformat_minor": 2
}
