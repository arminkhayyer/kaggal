{
 "cells": [
  {
   "cell_type": "code",
   "execution_count": 1,
   "metadata": {},
   "outputs": [],
   "source": [
    "import numpy as np\n",
    "import pandas as pd\n",
    "import collections\n",
    "import matplotlib.pyplot as plt\n",
    "from utility import *\n",
    "%load_ext autoreload\n",
    "%autoreload 2"
   ]
  },
  {
   "cell_type": "code",
   "execution_count": 2,
   "metadata": {},
   "outputs": [],
   "source": [
    "df = pd.read_csv('data/train_transaction.csv')\n",
    "df.index = df['TransactionID']\n",
    "del df['TransactionID']"
   ]
  },
  {
   "cell_type": "code",
   "execution_count": 6,
   "metadata": {},
   "outputs": [
    {
     "data": {
      "text/html": [
       "<div>\n",
       "<style scoped>\n",
       "    .dataframe tbody tr th:only-of-type {\n",
       "        vertical-align: middle;\n",
       "    }\n",
       "\n",
       "    .dataframe tbody tr th {\n",
       "        vertical-align: top;\n",
       "    }\n",
       "\n",
       "    .dataframe thead th {\n",
       "        text-align: right;\n",
       "    }\n",
       "</style>\n",
       "<table border=\"1\" class=\"dataframe\">\n",
       "  <thead>\n",
       "    <tr style=\"text-align: right;\">\n",
       "      <th></th>\n",
       "      <th>TransactionID</th>\n",
       "      <th>isFraud</th>\n",
       "      <th>TransactionDT</th>\n",
       "      <th>TransactionAmt</th>\n",
       "      <th>ProductCD</th>\n",
       "      <th>card1</th>\n",
       "      <th>card2</th>\n",
       "      <th>card3</th>\n",
       "      <th>card4</th>\n",
       "      <th>card5</th>\n",
       "      <th>...</th>\n",
       "      <th>V330</th>\n",
       "      <th>V331</th>\n",
       "      <th>V332</th>\n",
       "      <th>V333</th>\n",
       "      <th>V334</th>\n",
       "      <th>V335</th>\n",
       "      <th>V336</th>\n",
       "      <th>V337</th>\n",
       "      <th>V338</th>\n",
       "      <th>V339</th>\n",
       "    </tr>\n",
       "    <tr>\n",
       "      <th>TransactionID</th>\n",
       "      <th></th>\n",
       "      <th></th>\n",
       "      <th></th>\n",
       "      <th></th>\n",
       "      <th></th>\n",
       "      <th></th>\n",
       "      <th></th>\n",
       "      <th></th>\n",
       "      <th></th>\n",
       "      <th></th>\n",
       "      <th></th>\n",
       "      <th></th>\n",
       "      <th></th>\n",
       "      <th></th>\n",
       "      <th></th>\n",
       "      <th></th>\n",
       "      <th></th>\n",
       "      <th></th>\n",
       "      <th></th>\n",
       "      <th></th>\n",
       "      <th></th>\n",
       "    </tr>\n",
       "  </thead>\n",
       "  <tbody>\n",
       "    <tr>\n",
       "      <th>3006877</th>\n",
       "      <td>3006877</td>\n",
       "      <td>0</td>\n",
       "      <td>515683</td>\n",
       "      <td>105.000</td>\n",
       "      <td>W</td>\n",
       "      <td>17662</td>\n",
       "      <td>543.0</td>\n",
       "      <td>150.0</td>\n",
       "      <td>mastercard</td>\n",
       "      <td>224.0</td>\n",
       "      <td>...</td>\n",
       "      <td>NaN</td>\n",
       "      <td>NaN</td>\n",
       "      <td>NaN</td>\n",
       "      <td>NaN</td>\n",
       "      <td>NaN</td>\n",
       "      <td>NaN</td>\n",
       "      <td>NaN</td>\n",
       "      <td>NaN</td>\n",
       "      <td>NaN</td>\n",
       "      <td>NaN</td>\n",
       "    </tr>\n",
       "    <tr>\n",
       "      <th>3183617</th>\n",
       "      <td>3183617</td>\n",
       "      <td>0</td>\n",
       "      <td>4417492</td>\n",
       "      <td>209.950</td>\n",
       "      <td>W</td>\n",
       "      <td>7638</td>\n",
       "      <td>174.0</td>\n",
       "      <td>150.0</td>\n",
       "      <td>visa</td>\n",
       "      <td>166.0</td>\n",
       "      <td>...</td>\n",
       "      <td>NaN</td>\n",
       "      <td>NaN</td>\n",
       "      <td>NaN</td>\n",
       "      <td>NaN</td>\n",
       "      <td>NaN</td>\n",
       "      <td>NaN</td>\n",
       "      <td>NaN</td>\n",
       "      <td>NaN</td>\n",
       "      <td>NaN</td>\n",
       "      <td>NaN</td>\n",
       "    </tr>\n",
       "    <tr>\n",
       "      <th>3540061</th>\n",
       "      <td>3540061</td>\n",
       "      <td>0</td>\n",
       "      <td>14605536</td>\n",
       "      <td>36.950</td>\n",
       "      <td>W</td>\n",
       "      <td>9753</td>\n",
       "      <td>310.0</td>\n",
       "      <td>150.0</td>\n",
       "      <td>mastercard</td>\n",
       "      <td>224.0</td>\n",
       "      <td>...</td>\n",
       "      <td>NaN</td>\n",
       "      <td>NaN</td>\n",
       "      <td>NaN</td>\n",
       "      <td>NaN</td>\n",
       "      <td>NaN</td>\n",
       "      <td>NaN</td>\n",
       "      <td>NaN</td>\n",
       "      <td>NaN</td>\n",
       "      <td>NaN</td>\n",
       "      <td>NaN</td>\n",
       "    </tr>\n",
       "    <tr>\n",
       "      <th>3145969</th>\n",
       "      <td>3145969</td>\n",
       "      <td>0</td>\n",
       "      <td>3344227</td>\n",
       "      <td>29.000</td>\n",
       "      <td>W</td>\n",
       "      <td>16661</td>\n",
       "      <td>490.0</td>\n",
       "      <td>150.0</td>\n",
       "      <td>visa</td>\n",
       "      <td>226.0</td>\n",
       "      <td>...</td>\n",
       "      <td>NaN</td>\n",
       "      <td>NaN</td>\n",
       "      <td>NaN</td>\n",
       "      <td>NaN</td>\n",
       "      <td>NaN</td>\n",
       "      <td>NaN</td>\n",
       "      <td>NaN</td>\n",
       "      <td>NaN</td>\n",
       "      <td>NaN</td>\n",
       "      <td>NaN</td>\n",
       "    </tr>\n",
       "    <tr>\n",
       "      <th>3015701</th>\n",
       "      <td>3015701</td>\n",
       "      <td>0</td>\n",
       "      <td>738265</td>\n",
       "      <td>15.000</td>\n",
       "      <td>H</td>\n",
       "      <td>7861</td>\n",
       "      <td>494.0</td>\n",
       "      <td>150.0</td>\n",
       "      <td>visa</td>\n",
       "      <td>226.0</td>\n",
       "      <td>...</td>\n",
       "      <td>1.0</td>\n",
       "      <td>50.0</td>\n",
       "      <td>50.0</td>\n",
       "      <td>50.0</td>\n",
       "      <td>0.0</td>\n",
       "      <td>0.0</td>\n",
       "      <td>0.0</td>\n",
       "      <td>50.0</td>\n",
       "      <td>50.0</td>\n",
       "      <td>50.0</td>\n",
       "    </tr>\n",
       "    <tr>\n",
       "      <th>3348886</th>\n",
       "      <td>3348886</td>\n",
       "      <td>1</td>\n",
       "      <td>8975533</td>\n",
       "      <td>554.000</td>\n",
       "      <td>W</td>\n",
       "      <td>8695</td>\n",
       "      <td>170.0</td>\n",
       "      <td>150.0</td>\n",
       "      <td>visa</td>\n",
       "      <td>226.0</td>\n",
       "      <td>...</td>\n",
       "      <td>NaN</td>\n",
       "      <td>NaN</td>\n",
       "      <td>NaN</td>\n",
       "      <td>NaN</td>\n",
       "      <td>NaN</td>\n",
       "      <td>NaN</td>\n",
       "      <td>NaN</td>\n",
       "      <td>NaN</td>\n",
       "      <td>NaN</td>\n",
       "      <td>NaN</td>\n",
       "    </tr>\n",
       "    <tr>\n",
       "      <th>3413659</th>\n",
       "      <td>3413659</td>\n",
       "      <td>0</td>\n",
       "      <td>10785846</td>\n",
       "      <td>90.007</td>\n",
       "      <td>C</td>\n",
       "      <td>8404</td>\n",
       "      <td>156.0</td>\n",
       "      <td>146.0</td>\n",
       "      <td>visa</td>\n",
       "      <td>226.0</td>\n",
       "      <td>...</td>\n",
       "      <td>NaN</td>\n",
       "      <td>NaN</td>\n",
       "      <td>NaN</td>\n",
       "      <td>NaN</td>\n",
       "      <td>NaN</td>\n",
       "      <td>NaN</td>\n",
       "      <td>NaN</td>\n",
       "      <td>NaN</td>\n",
       "      <td>NaN</td>\n",
       "      <td>NaN</td>\n",
       "    </tr>\n",
       "    <tr>\n",
       "      <th>3289783</th>\n",
       "      <td>3289783</td>\n",
       "      <td>0</td>\n",
       "      <td>7495073</td>\n",
       "      <td>142.000</td>\n",
       "      <td>W</td>\n",
       "      <td>9500</td>\n",
       "      <td>321.0</td>\n",
       "      <td>150.0</td>\n",
       "      <td>visa</td>\n",
       "      <td>226.0</td>\n",
       "      <td>...</td>\n",
       "      <td>NaN</td>\n",
       "      <td>NaN</td>\n",
       "      <td>NaN</td>\n",
       "      <td>NaN</td>\n",
       "      <td>NaN</td>\n",
       "      <td>NaN</td>\n",
       "      <td>NaN</td>\n",
       "      <td>NaN</td>\n",
       "      <td>NaN</td>\n",
       "      <td>NaN</td>\n",
       "    </tr>\n",
       "    <tr>\n",
       "      <th>3207645</th>\n",
       "      <td>3207645</td>\n",
       "      <td>0</td>\n",
       "      <td>5181094</td>\n",
       "      <td>107.950</td>\n",
       "      <td>W</td>\n",
       "      <td>2884</td>\n",
       "      <td>490.0</td>\n",
       "      <td>150.0</td>\n",
       "      <td>visa</td>\n",
       "      <td>226.0</td>\n",
       "      <td>...</td>\n",
       "      <td>NaN</td>\n",
       "      <td>NaN</td>\n",
       "      <td>NaN</td>\n",
       "      <td>NaN</td>\n",
       "      <td>NaN</td>\n",
       "      <td>NaN</td>\n",
       "      <td>NaN</td>\n",
       "      <td>NaN</td>\n",
       "      <td>NaN</td>\n",
       "      <td>NaN</td>\n",
       "    </tr>\n",
       "    <tr>\n",
       "      <th>3468961</th>\n",
       "      <td>3468961</td>\n",
       "      <td>0</td>\n",
       "      <td>12523775</td>\n",
       "      <td>58.950</td>\n",
       "      <td>W</td>\n",
       "      <td>6933</td>\n",
       "      <td>477.0</td>\n",
       "      <td>150.0</td>\n",
       "      <td>mastercard</td>\n",
       "      <td>117.0</td>\n",
       "      <td>...</td>\n",
       "      <td>NaN</td>\n",
       "      <td>NaN</td>\n",
       "      <td>NaN</td>\n",
       "      <td>NaN</td>\n",
       "      <td>NaN</td>\n",
       "      <td>NaN</td>\n",
       "      <td>NaN</td>\n",
       "      <td>NaN</td>\n",
       "      <td>NaN</td>\n",
       "      <td>NaN</td>\n",
       "    </tr>\n",
       "  </tbody>\n",
       "</table>\n",
       "<p>10 rows × 394 columns</p>\n",
       "</div>"
      ],
      "text/plain": [
       "               TransactionID  isFraud  TransactionDT  TransactionAmt  \\\n",
       "TransactionID                                                          \n",
       "3006877              3006877        0         515683         105.000   \n",
       "3183617              3183617        0        4417492         209.950   \n",
       "3540061              3540061        0       14605536          36.950   \n",
       "3145969              3145969        0        3344227          29.000   \n",
       "3015701              3015701        0         738265          15.000   \n",
       "3348886              3348886        1        8975533         554.000   \n",
       "3413659              3413659        0       10785846          90.007   \n",
       "3289783              3289783        0        7495073         142.000   \n",
       "3207645              3207645        0        5181094         107.950   \n",
       "3468961              3468961        0       12523775          58.950   \n",
       "\n",
       "              ProductCD  card1  card2  card3       card4  card5  ... V330  \\\n",
       "TransactionID                                                    ...        \n",
       "3006877               W  17662  543.0  150.0  mastercard  224.0  ...  NaN   \n",
       "3183617               W   7638  174.0  150.0        visa  166.0  ...  NaN   \n",
       "3540061               W   9753  310.0  150.0  mastercard  224.0  ...  NaN   \n",
       "3145969               W  16661  490.0  150.0        visa  226.0  ...  NaN   \n",
       "3015701               H   7861  494.0  150.0        visa  226.0  ...  1.0   \n",
       "3348886               W   8695  170.0  150.0        visa  226.0  ...  NaN   \n",
       "3413659               C   8404  156.0  146.0        visa  226.0  ...  NaN   \n",
       "3289783               W   9500  321.0  150.0        visa  226.0  ...  NaN   \n",
       "3207645               W   2884  490.0  150.0        visa  226.0  ...  NaN   \n",
       "3468961               W   6933  477.0  150.0  mastercard  117.0  ...  NaN   \n",
       "\n",
       "               V331  V332  V333  V334 V335 V336  V337  V338  V339  \n",
       "TransactionID                                                      \n",
       "3006877         NaN   NaN   NaN   NaN  NaN  NaN   NaN   NaN   NaN  \n",
       "3183617         NaN   NaN   NaN   NaN  NaN  NaN   NaN   NaN   NaN  \n",
       "3540061         NaN   NaN   NaN   NaN  NaN  NaN   NaN   NaN   NaN  \n",
       "3145969         NaN   NaN   NaN   NaN  NaN  NaN   NaN   NaN   NaN  \n",
       "3015701        50.0  50.0  50.0   0.0  0.0  0.0  50.0  50.0  50.0  \n",
       "3348886         NaN   NaN   NaN   NaN  NaN  NaN   NaN   NaN   NaN  \n",
       "3413659         NaN   NaN   NaN   NaN  NaN  NaN   NaN   NaN   NaN  \n",
       "3289783         NaN   NaN   NaN   NaN  NaN  NaN   NaN   NaN   NaN  \n",
       "3207645         NaN   NaN   NaN   NaN  NaN  NaN   NaN   NaN   NaN  \n",
       "3468961         NaN   NaN   NaN   NaN  NaN  NaN   NaN   NaN   NaN  \n",
       "\n",
       "[10 rows x 394 columns]"
      ]
     },
     "execution_count": 6,
     "metadata": {},
     "output_type": "execute_result"
    }
   ],
   "source": [
    "df.sample(10)"
   ]
  },
  {
   "cell_type": "code",
   "execution_count": 7,
   "metadata": {},
   "outputs": [],
   "source": [
    "categoricalColumns = df.columns[df.dtypes==object]\n",
    "numericColumns = df.columns[df.dtypes!=object]"
   ]
  },
  {
   "cell_type": "code",
   "execution_count": 8,
   "metadata": {},
   "outputs": [
    {
     "data": {
      "text/plain": [
       "(array([109.,  69.,   0.,  19.,   1.,  14.,   1.,   0., 112.,  55.]),\n",
       " array([0.        , 0.09362837, 0.18725675, 0.28088512, 0.3745135 ,\n",
       "        0.46814187, 0.56177024, 0.65539862, 0.74902699, 0.84265537,\n",
       "        0.93628374]),\n",
       " <a list of 10 Patch objects>)"
      ]
     },
     "execution_count": 8,
     "metadata": {},
     "output_type": "execute_result"
    },
    {
     "data": {
      "image/png": "[encoded data removed]",
      "text/plain": [
       "<Figure size 432x288 with 1 Axes>"
      ]
     },
     "metadata": {},
     "output_type": "display_data"
    }
   ],
   "source": [
    "percentNa = df[numericColumns].isna().sum()/ len(df)\n",
    "plt.hist(percentNa)"
   ]
  },
  {
   "cell_type": "code",
   "execution_count": 9,
   "metadata": {},
   "outputs": [],
   "source": [
    "lowPercentColumns = numericColumns[percentNa < .2]\n",
    "midPercentColumns = numericColumns[(percentNa > .2) & (percentNa < .7)]\n",
    "midAndLowPercentColumns = numericColumns[percentNa < .7]"
   ]
  },
  {
   "cell_type": "code",
   "execution_count": 7,
   "metadata": {},
   "outputs": [],
   "source": [
    "for column in lowPercentColumns:\n",
    "    df[column] = df[column].fillna(df[column].mean())"
   ]
  },
  {
   "cell_type": "code",
   "execution_count": 8,
   "metadata": {},
   "outputs": [],
   "source": [
    "for column in midPercentColumns:\n",
    "    df[\"%s_isnan\"%column] = df[column].isna()\n",
    "    df[column] = df[column].fillna(df[column].mean())"
   ]
  },
  {
   "cell_type": "code",
   "execution_count": 9,
   "metadata": {},
   "outputs": [
    {
     "data": {
      "text/plain": [
       "(array([213.,   0.,   0.,   0.,   0.,   0.,   0.,   0., 112.,  55.]),\n",
       " array([0.        , 0.09362837, 0.18725675, 0.28088512, 0.3745135 ,\n",
       "        0.46814187, 0.56177024, 0.65539862, 0.74902699, 0.84265537,\n",
       "        0.93628374]),\n",
       " <a list of 10 Patch objects>)"
      ]
     },
     "execution_count": 9,
     "metadata": {},
     "output_type": "execute_result"
    },
    {
     "data": {
      "image/png": "[encoded data removed]",
      "text/plain": [
       "<Figure size 432x288 with 1 Axes>"
      ]
     },
     "metadata": {},
     "output_type": "display_data"
    }
   ],
   "source": [
    "percentNa = df[numericColumns].isna().sum()/ len(df)\n",
    "plt.hist(percentNa)"
   ]
  },
  {
   "cell_type": "code",
   "execution_count": 10,
   "metadata": {},
   "outputs": [],
   "source": [
    "tmp = categoricalColumns.to_list()\n",
    "del tmp[3:5]\n",
    "dfCategoricalExceptEmailDummied = pd.get_dummies(df[tmp])"
   ]
  },
  {
   "cell_type": "code",
   "execution_count": 11,
   "metadata": {},
   "outputs": [
    {
     "data": {
      "text/plain": [
       "Index(['ProductCD_C', 'ProductCD_H', 'ProductCD_R', 'ProductCD_S',\n",
       "       'ProductCD_W', 'card4_american express', 'card4_discover',\n",
       "       'card4_mastercard', 'card4_visa', 'card6_charge card', 'card6_credit',\n",
       "       'card6_debit', 'card6_debit or credit', 'M1_F', 'M1_T', 'M2_F', 'M2_T',\n",
       "       'M3_F', 'M3_T', 'M4_M0', 'M4_M1', 'M4_M2', 'M5_F', 'M5_T', 'M6_F',\n",
       "       'M6_T', 'M7_F', 'M7_T', 'M8_F', 'M8_T', 'M9_F', 'M9_T'],\n",
       "      dtype='object')"
      ]
     },
     "execution_count": 11,
     "metadata": {},
     "output_type": "execute_result"
    }
   ],
   "source": [
    "dfCategoricalExceptEmailDummied.columns"
   ]
  },
  {
   "cell_type": "code",
   "execution_count": 12,
   "metadata": {},
   "outputs": [],
   "source": [
    "dfEmails = df[['P_emaildomain', 'R_emaildomain']]"
   ]
  },
  {
   "cell_type": "code",
   "execution_count": 13,
   "metadata": {},
   "outputs": [
    {
     "name": "stderr",
     "output_type": "stream",
     "text": [
      "/home/bzr0014/envs/AI/lib/python3.5/site-packages/ipykernel_launcher.py:14: SettingWithCopyWarning: \n",
      "A value is trying to be set on a copy of a slice from a DataFrame.\n",
      "Try using .loc[row_indexer,col_indexer] = value instead\n",
      "\n",
      "See the caveats in the documentation: http://pandas.pydata.org/pandas-docs/stable/indexing.html#indexing-view-versus-copy\n",
      "  \n",
      "/home/bzr0014/envs/AI/lib/python3.5/site-packages/ipykernel_launcher.py:15: SettingWithCopyWarning: \n",
      "A value is trying to be set on a copy of a slice from a DataFrame.\n",
      "Try using .loc[row_indexer,col_indexer] = value instead\n",
      "\n",
      "See the caveats in the documentation: http://pandas.pydata.org/pandas-docs/stable/indexing.html#indexing-view-versus-copy\n",
      "  from ipykernel import kernelapp as app\n",
      "/home/bzr0014/envs/AI/lib/python3.5/site-packages/ipykernel_launcher.py:16: SettingWithCopyWarning: \n",
      "A value is trying to be set on a copy of a slice from a DataFrame.\n",
      "Try using .loc[row_indexer,col_indexer] = value instead\n",
      "\n",
      "See the caveats in the documentation: http://pandas.pydata.org/pandas-docs/stable/indexing.html#indexing-view-versus-copy\n",
      "  app.launch_new_instance()\n",
      "/home/bzr0014/envs/AI/lib/python3.5/site-packages/ipykernel_launcher.py:17: SettingWithCopyWarning: \n",
      "A value is trying to be set on a copy of a slice from a DataFrame.\n",
      "Try using .loc[row_indexer,col_indexer] = value instead\n",
      "\n",
      "See the caveats in the documentation: http://pandas.pydata.org/pandas-docs/stable/indexing.html#indexing-view-versus-copy\n"
     ]
    }
   ],
   "source": [
    "#getEmailService = lambda x: x.split('.', maxsplit=1)[0] if type(x)==str else ''\n",
    "def getEmailService(x):\n",
    "    if type(x) != str:\n",
    "        return ''\n",
    "    xSplit = x.split('.', maxsplit=1)\n",
    "    return xSplit[0].replace('ymail', 'yahoo')\n",
    "def getEmailDomain(x):\n",
    "    if type(x) != str:\n",
    "        return ''\n",
    "    xSplit = x.split('.', maxsplit=1)\n",
    "    if len(xSplit) > 1:\n",
    "        return xSplit[1]\n",
    "    return ''\n",
    "dfEmails['P_emailservice'] = dfEmails['P_emaildomain'].map(getEmailService)\n",
    "dfEmails['P_emaildomain']  = dfEmails['P_emaildomain'].map(getEmailDomain)\n",
    "dfEmails['R_emailservice'] = dfEmails['R_emaildomain'].map(getEmailService)\n",
    "dfEmails['R_emaildomain']  = dfEmails['R_emaildomain'].map(getEmailDomain)"
   ]
  },
  {
   "cell_type": "code",
   "execution_count": 14,
   "metadata": {},
   "outputs": [],
   "source": [
    "PemailServiceCount = collections.Counter(dfEmails['P_emailservice'])\n",
    "PemailDomainCount = collections.Counter(dfEmails['P_emaildomain'])\n",
    "RemailServiceCount = collections.Counter(dfEmails['R_emailservice'])\n",
    "RemailDomainCount = collections.Counter(dfEmails['R_emaildomain'])"
   ]
  },
  {
   "cell_type": "code",
   "execution_count": 15,
   "metadata": {},
   "outputs": [],
   "source": [
    "PemailServicePercent = {key: value/len(dfEmails) for key, value in PemailServiceCount.items()}\n",
    "PemailDomainPercent = {key: value/len(dfEmails) for key, value in PemailDomainCount.items()}\n",
    "RemailServicePercent = {key: value/len(dfEmails) for key, value in RemailServiceCount.items()}\n",
    "RemailDomainPercent = {key: value/len(dfEmails) for key, value in RemailDomainCount.items()}"
   ]
  },
  {
   "cell_type": "code",
   "execution_count": 16,
   "metadata": {},
   "outputs": [
    {
     "data": {
      "text/plain": [
       "{'': 0.16078843092762557,\n",
       " 'co.jp': 5.418769262031361e-05,\n",
       " 'co.uk': 0.00027263182849595284,\n",
       " 'com': 0.7893470383039253,\n",
       " 'com.mx': 0.0038811934839299623,\n",
       " 'de': 0.0008568428895587089,\n",
       " 'es': 0.0014850814508754698,\n",
       " 'fr': 0.0008365225048260913,\n",
       " 'net': 0.04155857350899177,\n",
       " 'net.mx': 0.00035052663663765366,\n",
       " 'rr.com': 0.0005689707725132929}"
      ]
     },
     "execution_count": 16,
     "metadata": {},
     "output_type": "execute_result"
    }
   ],
   "source": [
    "PemailDomainPercent"
   ]
  },
  {
   "cell_type": "code",
   "execution_count": 17,
   "metadata": {},
   "outputs": [],
   "source": [
    "highlyOccuringEmailServices = set()\n",
    "for key in PemailServicePercent:\n",
    "    if PemailServicePercent[key] > .01:\n",
    "        highlyOccuringEmailServices.add(key)\n",
    "for key in RemailServicePercent:\n",
    "    if RemailServicePercent[key] > .01:\n",
    "        highlyOccuringEmailServices.add(key)       "
   ]
  },
  {
   "cell_type": "code",
   "execution_count": 18,
   "metadata": {},
   "outputs": [
    {
     "data": {
      "text/plain": [
       "{'', 'anonymous', 'aol', 'comcast', 'gmail', 'hotmail', 'icloud', 'yahoo'}"
      ]
     },
     "execution_count": 18,
     "metadata": {},
     "output_type": "execute_result"
    }
   ],
   "source": [
    "highlyOccuringEmailServices"
   ]
  },
  {
   "cell_type": "code",
   "execution_count": 19,
   "metadata": {},
   "outputs": [],
   "source": [
    "highlyOccuringEmailDomains = set()\n",
    "for key in PemailDomainPercent:\n",
    "    if PemailDomainPercent[key] > .01:\n",
    "        highlyOccuringEmailDomains.add(key)\n",
    "for key in RemailDomainPercent:\n",
    "    if RemailDomainPercent[key] > .01:\n",
    "        highlyOccuringEmailDomains.add(key)       "
   ]
  },
  {
   "cell_type": "code",
   "execution_count": 20,
   "metadata": {},
   "outputs": [
    {
     "data": {
      "text/plain": [
       "{'', 'com', 'net'}"
      ]
     },
     "execution_count": 20,
     "metadata": {},
     "output_type": "execute_result"
    }
   ],
   "source": [
    "highlyOccuringEmailDomains"
   ]
  },
  {
   "cell_type": "code",
   "execution_count": 21,
   "metadata": {},
   "outputs": [
    {
     "name": "stderr",
     "output_type": "stream",
     "text": [
      "/home/bzr0014/envs/AI/lib/python3.5/site-packages/ipykernel_launcher.py:1: SettingWithCopyWarning: \n",
      "A value is trying to be set on a copy of a slice from a DataFrame.\n",
      "Try using .loc[row_indexer,col_indexer] = value instead\n",
      "\n",
      "See the caveats in the documentation: http://pandas.pydata.org/pandas-docs/stable/indexing.html#indexing-view-versus-copy\n",
      "  \"\"\"Entry point for launching an IPython kernel.\n",
      "/home/bzr0014/envs/AI/lib/python3.5/site-packages/ipykernel_launcher.py:2: SettingWithCopyWarning: \n",
      "A value is trying to be set on a copy of a slice from a DataFrame.\n",
      "Try using .loc[row_indexer,col_indexer] = value instead\n",
      "\n",
      "See the caveats in the documentation: http://pandas.pydata.org/pandas-docs/stable/indexing.html#indexing-view-versus-copy\n",
      "  \n"
     ]
    }
   ],
   "source": [
    "dfEmails['P_emaildomain'] = dfEmails['P_emaildomain'].map(lambda x: x if x in highlyOccuringEmailDomains else 'other')\n",
    "dfEmails['R_emaildomain'] = dfEmails['R_emaildomain'].map(lambda x: x if x in highlyOccuringEmailDomains else 'other')"
   ]
  },
  {
   "cell_type": "code",
   "execution_count": 22,
   "metadata": {},
   "outputs": [
    {
     "name": "stderr",
     "output_type": "stream",
     "text": [
      "/home/bzr0014/envs/AI/lib/python3.5/site-packages/ipykernel_launcher.py:1: SettingWithCopyWarning: \n",
      "A value is trying to be set on a copy of a slice from a DataFrame.\n",
      "Try using .loc[row_indexer,col_indexer] = value instead\n",
      "\n",
      "See the caveats in the documentation: http://pandas.pydata.org/pandas-docs/stable/indexing.html#indexing-view-versus-copy\n",
      "  \"\"\"Entry point for launching an IPython kernel.\n",
      "/home/bzr0014/envs/AI/lib/python3.5/site-packages/ipykernel_launcher.py:2: SettingWithCopyWarning: \n",
      "A value is trying to be set on a copy of a slice from a DataFrame.\n",
      "Try using .loc[row_indexer,col_indexer] = value instead\n",
      "\n",
      "See the caveats in the documentation: http://pandas.pydata.org/pandas-docs/stable/indexing.html#indexing-view-versus-copy\n",
      "  \n"
     ]
    }
   ],
   "source": [
    "dfEmails['P_emailservice'] = dfEmails['P_emailservice'].map(lambda x: x if x in highlyOccuringEmailServices else 'other')\n",
    "dfEmails['R_emailservice'] = dfEmails['R_emailservice'].map(lambda x: x if x in highlyOccuringEmailServices else 'other')"
   ]
  },
  {
   "cell_type": "code",
   "execution_count": 23,
   "metadata": {},
   "outputs": [],
   "source": [
    "dfEmailDummied = pd.get_dummies(dfEmails)"
   ]
  },
  {
   "cell_type": "code",
   "execution_count": 24,
   "metadata": {},
   "outputs": [
    {
     "data": {
      "text/plain": [
       "Index(['P_emaildomain_', 'P_emaildomain_com', 'P_emaildomain_net',\n",
       "       'P_emaildomain_other', 'R_emaildomain_', 'R_emaildomain_com',\n",
       "       'R_emaildomain_net', 'R_emaildomain_other', 'P_emailservice_',\n",
       "       'P_emailservice_anonymous', 'P_emailservice_aol',\n",
       "       'P_emailservice_comcast', 'P_emailservice_gmail',\n",
       "       'P_emailservice_hotmail', 'P_emailservice_icloud',\n",
       "       'P_emailservice_other', 'P_emailservice_yahoo', 'R_emailservice_',\n",
       "       'R_emailservice_anonymous', 'R_emailservice_aol',\n",
       "       'R_emailservice_comcast', 'R_emailservice_gmail',\n",
       "       'R_emailservice_hotmail', 'R_emailservice_icloud',\n",
       "       'R_emailservice_other', 'R_emailservice_yahoo'],\n",
       "      dtype='object')"
      ]
     },
     "execution_count": 24,
     "metadata": {},
     "output_type": "execute_result"
    }
   ],
   "source": [
    "dfEmailDummied.columns"
   ]
  },
  {
   "cell_type": "code",
   "execution_count": 25,
   "metadata": {},
   "outputs": [
    {
     "data": {
      "text/plain": [
       "(590540, 26)"
      ]
     },
     "execution_count": 25,
     "metadata": {},
     "output_type": "execute_result"
    }
   ],
   "source": [
    "dfEmailDummied.values.shape"
   ]
  },
  {
   "cell_type": "code",
   "execution_count": 26,
   "metadata": {},
   "outputs": [
    {
     "data": {
      "text/plain": [
       "(590540, 213)"
      ]
     },
     "execution_count": 26,
     "metadata": {},
     "output_type": "execute_result"
    }
   ],
   "source": [
    "df[midAndLowPercentColumns].values.shape"
   ]
  },
  {
   "cell_type": "code",
   "execution_count": 27,
   "metadata": {},
   "outputs": [
    {
     "data": {
      "text/plain": [
       "(590540, 32)"
      ]
     },
     "execution_count": 27,
     "metadata": {},
     "output_type": "execute_result"
    }
   ],
   "source": [
    "dfCategoricalExceptEmailDummied.values.shape"
   ]
  },
  {
   "cell_type": "code",
   "execution_count": 32,
   "metadata": {},
   "outputs": [],
   "source": [
    "finalArray = np.hstack([\n",
    "    dfCategoricalExceptEmailDummied.values,\n",
    "    dfEmailDummied.values,\n",
    "    df[midAndLowPercentColumns].values\n",
    "]).astype('float32')"
   ]
  },
  {
   "cell_type": "code",
   "execution_count": 33,
   "metadata": {},
   "outputs": [],
   "source": [
    "import pickle\n",
    "with open('cleaned_input.np', 'wb') as f:\n",
    "    pickle.dump(finalArray, f)"
   ]
  },
  {
   "cell_type": "code",
   "execution_count": 34,
   "metadata": {},
   "outputs": [],
   "source": [
    "allColumns = dfCategoricalExceptEmailDummied.columns.tolist() + dfEmailDummied.columns.tolist() + df[midAndLowPercentColumns].columns.tolist()"
   ]
  },
  {
   "cell_type": "code",
   "execution_count": 35,
   "metadata": {},
   "outputs": [],
   "source": [
    "with open('cleaned_colunms', 'wb') as f:\n",
    "    pickle.dump(allColumns, f)"
   ]
  },
  {
   "cell_type": "code",
   "execution_count": null,
   "metadata": {},
   "outputs": [],
   "source": []
  }
 ],
 "metadata": {
  "kernelspec": {
   "display_name": "Python 3",
   "language": "python",
   "name": "python3"
  },
  "language_info": {
   "codemirror_mode": {
    "name": "ipython",
    "version": 3
   },
   "file_extension": ".py",
   "mimetype": "text/x-python",
   "name": "python",
   "nbconvert_exporter": "python",
   "pygments_lexer": "ipython3",
   "version": "3.5.2"
  }
 },
 "nbformat": 4,
 "nbformat_minor": 2
}
