{
 "cells": [
  {
   "cell_type": "code",
   "execution_count": 1,
   "metadata": {},
   "outputs": [],
   "source": [
    "import numpy as np\n",
    "import pandas as pd\n",
    "import collections\n",
    "import matplotlib.pyplot as plt\n",
    "import pickle\n",
    "from utility import *\n",
    "%load_ext autoreload\n",
    "%autoreload 2"
   ]
  },
  {
   "cell_type": "code",
   "execution_count": 2,
   "metadata": {},
   "outputs": [],
   "source": [
    "df1 = pd.read_csv('data/test_transaction.csv')\n",
    "df2 = pd.read_csv('data/test_identity.csv')"
   ]
  },
  {
   "cell_type": "code",
   "execution_count": 3,
   "metadata": {},
   "outputs": [],
   "source": [
    "def getEmailService(x):\n",
    "    if type(x) != str:\n",
    "        return ''\n",
    "    xSplit = x.split('.', maxsplit=1)\n",
    "    return xSplit[0].replace('ymail', 'yahoo')\n",
    "def getEmailDomain(x):\n",
    "    if type(x) != str:\n",
    "        return ''\n",
    "    xSplit = x.split('.', maxsplit=1)\n",
    "    if len(xSplit) > 1:\n",
    "        return xSplit[1]\n",
    "    return ''\n",
    "def mergeTransactionAndIdentity(df1, df2):\n",
    "    df1.index = df1['TransactionID']\n",
    "    df2.index = df2['TransactionID']\n",
    "    df1.drop('TransactionID', axis=1, inplace=True)\n",
    "    df2.drop('TransactionID', axis=1, inplace=True)\n",
    "    df = df1.join(df2)\n",
    "    return df\n",
    "\n",
    "def cleanEmails(df):\n",
    "    dfEmails = df[['P_emaildomain', 'R_emaildomain']]\n",
    "    df['P_emailservice'] = dfEmails['P_emaildomain'].map(getEmailService)\n",
    "    df['P_emaildomain']  = dfEmails['P_emaildomain'].map(getEmailDomain)\n",
    "    df['R_emailservice'] = dfEmails['R_emaildomain'].map(getEmailService)\n",
    "    df['R_emaildomain']  = dfEmails['R_emaildomain'].map(getEmailDomain)      \n",
    "    \n",
    "Params = collections.namedtuple('Params', \n",
    "                                \"\"\"lowPercentColumns midPercentColumns midAndLowPercentColumns \n",
    "                                highPercentColumns categoricalColumns categoricalOptions\"\"\")\n",
    "\n",
    "def cleanTrainingData(df):\n",
    "    categoricalColumns = df.columns[df.dtypes==object]\n",
    "    numericColumns = df.columns[df.dtypes!=object]   \n",
    "    \n",
    "    percentNa = df[numericColumns].isna().sum()/ len(df)\n",
    "    ####\n",
    "    lowPercentColumns = numericColumns[(percentNa < .3) & (percentNa > 0)]\n",
    "    ###\n",
    "    midPercentColumns = numericColumns[(percentNa >= .3) & (percentNa < .7)]\n",
    "    ###\n",
    "    midAndLowPercentColumns = numericColumns[percentNa < .7]   \n",
    "    highPercentColumns = numericColumns[percentNa >= .7]   \n",
    "    #for column in lowPercentColumns:\n",
    "    #    df[column] = df[column].fillna(df[column].mean())\n",
    "    #for column in midPercentColumns:\n",
    "    #    df[\"%s_isnan\"%column] = df[column].isna()\n",
    "    #    df[column] = df[column].fillna(df[column].mean())\n",
    "    ###\n",
    "    categoricalColumns= categoricalColumns\n",
    "    #categoricalColumnsExceptEmail.remove('P_emaildomain')\n",
    "    #categoricalColumnsExceptEmail.remove('R_emaildomain')\n",
    "    ###\n",
    "    categoricalOptions = {column: categoricalWithTooManyOptions(df, column) for column in categoricalColumns}\n",
    "    #for column in categoricalColumnsExceptEmail:\n",
    "    #    df[column] = cleanedCategoricalWithTooManyOptions(df, column, highlyOccuring=categoricalOptions[column])\n",
    "    #dfCategoricalExceptEmailDummied = pd.get_dummies(df[categoricalColumnsExceptEmail])\n",
    "    #print(dfCategoricalExceptEmailDummied.columns)\n",
    "\n",
    "    #emailColumns = ['P_emailservice', 'P_emaildomain', 'R_emailservice', 'R_emaildomain'] \n",
    "    ###\n",
    "    #emailOptions = {column: categoricalWithTooManyOptions(df, column) for column in emailColumns}\n",
    "    #for column in emailColumns:\n",
    "    #    df[column] = cleanedCategoricalWithTooManyOptions(df, column, highlyOccuring=emailOptions[column])\n",
    "    #dfEmailDummied = pd.get_dummies(df[emailColumns])\n",
    "    params = Params(lowPercentColumns, \n",
    "           midPercentColumns,\n",
    "           midAndLowPercentColumns,\n",
    "           highPercentColumns,\n",
    "           categoricalColumns,\n",
    "           categoricalOptions\n",
    "    )\n",
    "    return params"
   ]
  },
  {
   "cell_type": "code",
   "execution_count": 4,
   "metadata": {},
   "outputs": [],
   "source": [
    "df = mergeTransactionAndIdentity(df1, df2)"
   ]
  },
  {
   "cell_type": "code",
   "execution_count": 5,
   "metadata": {},
   "outputs": [],
   "source": [
    "cleanEmails(df)"
   ]
  },
  {
   "cell_type": "code",
   "execution_count": 6,
   "metadata": {},
   "outputs": [],
   "source": [
    "#del df1\n",
    "#del df2"
   ]
  },
  {
   "cell_type": "code",
   "execution_count": 7,
   "metadata": {},
   "outputs": [],
   "source": [
    "#params = cleanTrainingData(df)"
   ]
  },
  {
   "cell_type": "code",
   "execution_count": 8,
   "metadata": {},
   "outputs": [],
   "source": [
    "with open('./params', 'rb') as f:\n",
    "    params = pickle.load(f)\n",
    "    #pickle.dump(params, f)"
   ]
  },
  {
   "cell_type": "code",
   "execution_count": 9,
   "metadata": {},
   "outputs": [],
   "source": [
    "#tmp = df.drop(params['highPercentColumns'])\n",
    "#tmp.columns[tmp.isna().sum() > 0]\n",
    "df.drop(params.highPercentColumns, inplace=True, axis=1)"
   ]
  },
  {
   "cell_type": "code",
   "execution_count": 10,
   "metadata": {},
   "outputs": [
    {
     "data": {
      "text/plain": [
       "244"
      ]
     },
     "execution_count": 10,
     "metadata": {},
     "output_type": "execute_result"
    }
   ],
   "source": [
    "len(df.columns)"
   ]
  },
  {
   "cell_type": "code",
   "execution_count": 11,
   "metadata": {},
   "outputs": [
    {
     "data": {
      "text/plain": [
       "(array([181.,  21.,   0.,  16.,   7.,   1.,   1.,  12.,   3.,   2.]),\n",
       " array([0.        , 0.09900097, 0.19800194, 0.29700291, 0.39600388,\n",
       "        0.49500485, 0.59400581, 0.69300678, 0.79200775, 0.89100872,\n",
       "        0.99000969]),\n",
       " <a list of 10 Patch objects>)"
      ]
     },
     "execution_count": 11,
     "metadata": {},
     "output_type": "execute_result"
    },
    {
     "data": {
      "image/png": "[encoded data removed]",
      "text/plain": [
       "<Figure size 432x288 with 1 Axes>"
      ]
     },
     "metadata": {},
     "output_type": "display_data"
    }
   ],
   "source": [
    "percentNa = df.isna().sum()/ len(df)\n",
    "plt.hist(percentNa)"
   ]
  },
  {
   "cell_type": "code",
   "execution_count": 12,
   "metadata": {},
   "outputs": [],
   "source": [
    "cleanNumericColumn(df, params.lowPercentColumns, createFlag=False)\n",
    "cleanNumericColumn(df, params.midPercentColumns, createFlag=True)"
   ]
  },
  {
   "cell_type": "code",
   "execution_count": 13,
   "metadata": {},
   "outputs": [
    {
     "data": {
      "text/plain": [
       "(array([234.,   0.,   0.,   4.,   4.,   0.,   1.,  12.,   3.,   2.]),\n",
       " array([0.        , 0.09900097, 0.19800194, 0.29700291, 0.39600388,\n",
       "        0.49500485, 0.59400581, 0.69300678, 0.79200775, 0.89100872,\n",
       "        0.99000969]),\n",
       " <a list of 10 Patch objects>)"
      ]
     },
     "execution_count": 13,
     "metadata": {},
     "output_type": "execute_result"
    },
    {
     "data": {
      "image/png": "[encoded data removed]",
      "text/plain": [
       "<Figure size 432x288 with 1 Axes>"
      ]
     },
     "metadata": {},
     "output_type": "display_data"
    }
   ],
   "source": [
    "#df.drop(params.highPercentColumns\n",
    "percentNa = df.isna().sum()/ len(df)\n",
    "plt.hist(percentNa)"
   ]
  },
  {
   "cell_type": "code",
   "execution_count": 14,
   "metadata": {},
   "outputs": [],
   "source": [
    "for column, highlyOccuring in params.categoricalOptions.items():\n",
    "    for item in highlyOccuring:\n",
    "        if pd.isna(item):\n",
    "            highlyOccuring.remove(item)\n",
    "            highlyOccuring.add('nan')\n",
    "    df[column] = pd.Categorical(df[column], categories=list(highlyOccuring))\n",
    "    #cleanOptions(df, column, highlyOccuring)"
   ]
  },
  {
   "cell_type": "code",
   "execution_count": 15,
   "metadata": {},
   "outputs": [
    {
     "data": {
      "text/plain": [
       "(array([234.,   0.,   0.,   4.,   4.,   0.,   1.,  10.,   2.,   5.]),\n",
       " array([0. , 0.1, 0.2, 0.3, 0.4, 0.5, 0.6, 0.7, 0.8, 0.9, 1. ]),\n",
       " <a list of 10 Patch objects>)"
      ]
     },
     "execution_count": 15,
     "metadata": {},
     "output_type": "execute_result"
    },
    {
     "data": {
      "image/png": "[encoded data removed]",
      "text/plain": [
       "<Figure size 432x288 with 1 Axes>"
      ]
     },
     "metadata": {},
     "output_type": "display_data"
    }
   ],
   "source": [
    "#df.drop(params.highPercentColumns\n",
    "percentNa = df.isna().sum()/ len(df)\n",
    "plt.hist(percentNa)"
   ]
  },
  {
   "cell_type": "code",
   "execution_count": 16,
   "metadata": {},
   "outputs": [],
   "source": [
    "#tmp = df[params.]\n",
    "#a = set(params.midAndLowPercentColumns)\n",
    "#a.remove('isFraud')\n",
    "#tmp = df.[list(a)]\n",
    "#cleanNumericColumn(df, tmp.columns[tmp.isna().sum() > 0], createFlag=False) "
   ]
  },
  {
   "cell_type": "code",
   "execution_count": 17,
   "metadata": {},
   "outputs": [],
   "source": [
    "##tmp = df[params.]\n",
    "##a.remove('isFraud')\n",
    "#tmp = df[params.categoricalColumns]\n",
    "#for column in tmp.columns[tmp.isna().sum() > 0]:"
   ]
  },
  {
   "cell_type": "code",
   "execution_count": 18,
   "metadata": {},
   "outputs": [],
   "source": [
    "#df_new = pd.get_dummies(df, columns=params.categoricalColumns)\n",
    "#for key, value in params.categoricalOptions.items():\n",
    "df_new = pd.get_dummies(df, columns=params.categoricalColumns, dummy_na=False)"
   ]
  },
  {
   "cell_type": "code",
   "execution_count": 19,
   "metadata": {},
   "outputs": [
    {
     "data": {
      "text/plain": [
       "(array([339.,   0.,   0.,   0.,   0.,   0.,   0.,   0.,   0.,   1.]),\n",
       " array([0.        , 0.00093706, 0.00187412, 0.00281118, 0.00374824,\n",
       "        0.0046853 , 0.00562236, 0.00655942, 0.00749648, 0.00843354,\n",
       "        0.0093706 ]),\n",
       " <a list of 10 Patch objects>)"
      ]
     },
     "execution_count": 19,
     "metadata": {},
     "output_type": "execute_result"
    },
    {
     "data": {
      "image/png": "[encoded data removed]",
      "text/plain": [
       "<Figure size 432x288 with 1 Axes>"
      ]
     },
     "metadata": {},
     "output_type": "display_data"
    }
   ],
   "source": [
    "#df.drop(params.highPercentColumns\n",
    "percentNa = df_new.isna().sum()/ len(df_new)\n",
    "plt.hist(percentNa)"
   ]
  },
  {
   "cell_type": "code",
   "execution_count": 20,
   "metadata": {},
   "outputs": [],
   "source": [
    "cleanNumericColumn(df_new, df_new.columns[df_new.isna().sum()>0], createFlag=False)"
   ]
  },
  {
   "cell_type": "code",
   "execution_count": 21,
   "metadata": {},
   "outputs": [
    {
     "data": {
      "text/plain": [
       "(array([  0.,   0.,   0.,   0.,   0., 340.,   0.,   0.,   0.,   0.]),\n",
       " array([-0.5, -0.4, -0.3, -0.2, -0.1,  0. ,  0.1,  0.2,  0.3,  0.4,  0.5]),\n",
       " <a list of 10 Patch objects>)"
      ]
     },
     "execution_count": 21,
     "metadata": {},
     "output_type": "execute_result"
    },
    {
     "data": {
      "image/png": "[encoded data removed]",
      "text/plain": [
       "<Figure size 432x288 with 1 Axes>"
      ]
     },
     "metadata": {},
     "output_type": "display_data"
    }
   ],
   "source": [
    "#df.drop(params.highPercentColumns\n",
    "percentNa = df_new.isna().sum()/ len(df_new)\n",
    "plt.hist(percentNa)"
   ]
  },
  {
   "cell_type": "code",
   "execution_count": 29,
   "metadata": {},
   "outputs": [],
   "source": [
    "df_train = pd.read_pickle('data/dataframe_v04.pd')\n",
    "pd.to_pickle(df_new, 'data/dataframe_test_v04.pd')"
   ]
  },
  {
   "cell_type": "code",
   "execution_count": 30,
   "metadata": {},
   "outputs": [],
   "source": [
    "traincols = set(df_train.columns)"
   ]
  },
  {
   "cell_type": "code",
   "execution_count": 31,
   "metadata": {},
   "outputs": [],
   "source": [
    "testcols = set(df_new.columns)"
   ]
  },
  {
   "cell_type": "code",
   "execution_count": 32,
   "metadata": {},
   "outputs": [
    {
     "name": "stdout",
     "output_type": "stream",
     "text": [
      "{'isFraud'}\n",
      "set()\n"
     ]
    }
   ],
   "source": [
    "print(traincols - testcols)\n",
    "print(testcols - traincols)"
   ]
  },
  {
   "cell_type": "code",
   "execution_count": 33,
   "metadata": {},
   "outputs": [
    {
     "data": {
      "text/plain": [
       "(506691, 340)"
      ]
     },
     "execution_count": 33,
     "metadata": {},
     "output_type": "execute_result"
    }
   ],
   "source": [
    "df_new.shape"
   ]
  },
  {
   "cell_type": "code",
   "execution_count": 43,
   "metadata": {},
   "outputs": [],
   "source": [
    "indices = df_train.columns[1:] != df_new2.columns"
   ]
  },
  {
   "cell_type": "code",
   "execution_count": 44,
   "metadata": {},
   "outputs": [
    {
     "data": {
      "text/plain": [
       "Index([], dtype='object')"
      ]
     },
     "execution_count": 44,
     "metadata": {},
     "output_type": "execute_result"
    }
   ],
   "source": [
    "df_train.columns[1:][indices]"
   ]
  },
  {
   "cell_type": "code",
   "execution_count": 45,
   "metadata": {},
   "outputs": [
    {
     "data": {
      "text/plain": [
       "Index([], dtype='object')"
      ]
     },
     "execution_count": 45,
     "metadata": {},
     "output_type": "execute_result"
    }
   ],
   "source": [
    "df_new2.columns[indices]"
   ]
  },
  {
   "cell_type": "code",
   "execution_count": 46,
   "metadata": {},
   "outputs": [
    {
     "data": {
      "text/plain": [
       "set()"
      ]
     },
     "execution_count": 46,
     "metadata": {},
     "output_type": "execute_result"
    }
   ],
   "source": [
    "set(df_train.columns[1:][indices])-set( df_new.columns[indices])"
   ]
  },
  {
   "cell_type": "code",
   "execution_count": 41,
   "metadata": {},
   "outputs": [],
   "source": [
    "df_new2 = df_new[df_train.columns[1:]]"
   ]
  },
  {
   "cell_type": "code",
   "execution_count": 42,
   "metadata": {},
   "outputs": [
    {
     "data": {
      "text/plain": [
       "(506691, 340)"
      ]
     },
     "execution_count": 42,
     "metadata": {},
     "output_type": "execute_result"
    }
   ],
   "source": [
    "df_new2.shape"
   ]
  },
  {
   "cell_type": "code",
   "execution_count": 76,
   "metadata": {},
   "outputs": [
    {
     "data": {
      "text/plain": [
       "(590540, 374)"
      ]
     },
     "execution_count": 76,
     "metadata": {},
     "output_type": "execute_result"
    }
   ],
   "source": [
    "df_train.shape"
   ]
  },
  {
   "cell_type": "code",
   "execution_count": 77,
   "metadata": {},
   "outputs": [
    {
     "data": {
      "text/plain": [
       "(506691, 373)"
      ]
     },
     "execution_count": 77,
     "metadata": {},
     "output_type": "execute_result"
    }
   ],
   "source": [
    "df_new.shape"
   ]
  },
  {
   "cell_type": "code",
   "execution_count": 83,
   "metadata": {},
   "outputs": [
    {
     "data": {
      "text/plain": [
       "374"
      ]
     },
     "execution_count": 83,
     "metadata": {},
     "output_type": "execute_result"
    }
   ],
   "source": [
    "len(df_train.columns)"
   ]
  },
  {
   "cell_type": "code",
   "execution_count": 94,
   "metadata": {},
   "outputs": [
    {
     "data": {
      "text/plain": [
       "set()"
      ]
     },
     "execution_count": 94,
     "metadata": {},
     "output_type": "execute_result"
    }
   ],
   "source": [
    "set(df_new.columns)-set(df_train.columns)"
   ]
  },
  {
   "cell_type": "code",
   "execution_count": 96,
   "metadata": {},
   "outputs": [
    {
     "data": {
      "text/plain": [
       "{'isFraud'}"
      ]
     },
     "execution_count": 96,
     "metadata": {},
     "output_type": "execute_result"
    }
   ],
   "source": [
    "set(df_train.columns)-set(df_new.columns)"
   ]
  },
  {
   "cell_type": "code",
   "execution_count": 104,
   "metadata": {},
   "outputs": [
    {
     "data": {
      "text/plain": [
       "(506691, 424)"
      ]
     },
     "execution_count": 104,
     "metadata": {},
     "output_type": "execute_result"
    }
   ],
   "source": [
    "df_new[df_train.columns[2:]].shape"
   ]
  },
  {
   "cell_type": "code",
   "execution_count": 24,
   "metadata": {},
   "outputs": [],
   "source": [
    "for column in df_new.columns[1:]:\n",
    "    if len(df_new[column].shape)>1:\n",
    "        print(column)"
   ]
  },
  {
   "cell_type": "code",
   "execution_count": 26,
   "metadata": {},
   "outputs": [
    {
     "data": {
      "text/plain": [
       "TransactionID\n",
       "3663549    0\n",
       "3663550    0\n",
       "3663551    0\n",
       "3663552    0\n",
       "3663553    0\n",
       "          ..\n",
       "4170235    0\n",
       "4170236    0\n",
       "4170237    0\n",
       "4170238    0\n",
       "4170239    0\n",
       "Name: DeviceType_nan, Length: 506691, dtype: uint8"
      ]
     },
     "execution_count": 26,
     "metadata": {},
     "output_type": "execute_result"
    }
   ],
   "source": [
    "df_new['DeviceType_nan']"
   ]
  },
  {
   "cell_type": "code",
   "execution_count": 27,
   "metadata": {},
   "outputs": [
    {
     "data": {
      "text/plain": [
       "TransactionID\n",
       "3663549    0\n",
       "3663550    0\n",
       "3663551    0\n",
       "3663552    0\n",
       "3663553    0\n",
       "          ..\n",
       "4170235    0\n",
       "4170236    0\n",
       "4170237    0\n",
       "4170238    0\n",
       "4170239    0\n",
       "Name: DeviceType_nan, Length: 506691, dtype: uint8"
      ]
     },
     "execution_count": 27,
     "metadata": {},
     "output_type": "execute_result"
    }
   ],
   "source": [
    "df_new['DeviceType_nan']"
   ]
  },
  {
   "cell_type": "code",
   "execution_count": 117,
   "metadata": {},
   "outputs": [
    {
     "data": {
      "text/plain": [
       "(506691, 392)"
      ]
     },
     "execution_count": 117,
     "metadata": {},
     "output_type": "execute_result"
    }
   ],
   "source": [
    "df1.shape"
   ]
  },
  {
   "cell_type": "code",
   "execution_count": 118,
   "metadata": {},
   "outputs": [
    {
     "data": {
      "text/plain": [
       "(141907, 40)"
      ]
     },
     "execution_count": 118,
     "metadata": {},
     "output_type": "execute_result"
    }
   ],
   "source": [
    "df2.shape"
   ]
  },
  {
   "cell_type": "code",
   "execution_count": 49,
   "metadata": {},
   "outputs": [
    {
     "data": {
      "text/plain": [
       "Index([], dtype='object')"
      ]
     },
     "execution_count": 49,
     "metadata": {},
     "output_type": "execute_result"
    }
   ],
   "source": [
    "df_new2.columns[df_new2.columns!=df_train.columns[1:]]"
   ]
  },
  {
   "cell_type": "code",
   "execution_count": 129,
   "metadata": {},
   "outputs": [
    {
     "data": {
      "text/plain": [
       "TransactionID\n",
       "3663549       NaN\n",
       "3663550       NaN\n",
       "3663551       NaN\n",
       "3663552       NaN\n",
       "3663553       NaN\n",
       "            ...  \n",
       "4170235       NaN\n",
       "4170236    mobile\n",
       "4170237       NaN\n",
       "4170238       NaN\n",
       "4170239    mobile\n",
       "Name: DeviceType, Length: 506691, dtype: category\n",
       "Categories (3, object): [desktop, mobile, nan]"
      ]
     },
     "execution_count": 129,
     "metadata": {},
     "output_type": "execute_result"
    }
   ],
   "source": [
    "df['DeviceType']"
   ]
  },
  {
   "cell_type": "code",
   "execution_count": 152,
   "metadata": {},
   "outputs": [
    {
     "data": {
      "text/html": [
       "<div>\n",
       "<style scoped>\n",
       "    .dataframe tbody tr th:only-of-type {\n",
       "        vertical-align: middle;\n",
       "    }\n",
       "\n",
       "    .dataframe tbody tr th {\n",
       "        vertical-align: top;\n",
       "    }\n",
       "\n",
       "    .dataframe thead th {\n",
       "        text-align: right;\n",
       "    }\n",
       "</style>\n",
       "<table border=\"1\" class=\"dataframe\">\n",
       "  <thead>\n",
       "    <tr style=\"text-align: right;\">\n",
       "      <th>DeviceInfo</th>\n",
       "      <th>nan</th>\n",
       "      <th>Trident/7.0</th>\n",
       "      <th>iOS Device</th>\n",
       "      <th>Windows</th>\n",
       "      <th>MacOS</th>\n",
       "    </tr>\n",
       "    <tr>\n",
       "      <th>TransactionID</th>\n",
       "      <th></th>\n",
       "      <th></th>\n",
       "      <th></th>\n",
       "      <th></th>\n",
       "      <th></th>\n",
       "    </tr>\n",
       "  </thead>\n",
       "  <tbody>\n",
       "    <tr>\n",
       "      <td>3728372</td>\n",
       "      <td>0</td>\n",
       "      <td>0</td>\n",
       "      <td>0</td>\n",
       "      <td>0</td>\n",
       "      <td>0</td>\n",
       "    </tr>\n",
       "    <tr>\n",
       "      <td>4009092</td>\n",
       "      <td>0</td>\n",
       "      <td>0</td>\n",
       "      <td>0</td>\n",
       "      <td>0</td>\n",
       "      <td>0</td>\n",
       "    </tr>\n",
       "    <tr>\n",
       "      <td>4113330</td>\n",
       "      <td>0</td>\n",
       "      <td>0</td>\n",
       "      <td>0</td>\n",
       "      <td>0</td>\n",
       "      <td>0</td>\n",
       "    </tr>\n",
       "    <tr>\n",
       "      <td>3948895</td>\n",
       "      <td>0</td>\n",
       "      <td>0</td>\n",
       "      <td>0</td>\n",
       "      <td>0</td>\n",
       "      <td>0</td>\n",
       "    </tr>\n",
       "    <tr>\n",
       "      <td>3766285</td>\n",
       "      <td>0</td>\n",
       "      <td>0</td>\n",
       "      <td>0</td>\n",
       "      <td>0</td>\n",
       "      <td>0</td>\n",
       "    </tr>\n",
       "    <tr>\n",
       "      <td>4018040</td>\n",
       "      <td>0</td>\n",
       "      <td>0</td>\n",
       "      <td>0</td>\n",
       "      <td>0</td>\n",
       "      <td>0</td>\n",
       "    </tr>\n",
       "    <tr>\n",
       "      <td>4028524</td>\n",
       "      <td>0</td>\n",
       "      <td>0</td>\n",
       "      <td>0</td>\n",
       "      <td>0</td>\n",
       "      <td>1</td>\n",
       "    </tr>\n",
       "    <tr>\n",
       "      <td>4021889</td>\n",
       "      <td>0</td>\n",
       "      <td>0</td>\n",
       "      <td>0</td>\n",
       "      <td>0</td>\n",
       "      <td>0</td>\n",
       "    </tr>\n",
       "    <tr>\n",
       "      <td>4162621</td>\n",
       "      <td>0</td>\n",
       "      <td>0</td>\n",
       "      <td>0</td>\n",
       "      <td>0</td>\n",
       "      <td>0</td>\n",
       "    </tr>\n",
       "    <tr>\n",
       "      <td>3953945</td>\n",
       "      <td>0</td>\n",
       "      <td>0</td>\n",
       "      <td>0</td>\n",
       "      <td>0</td>\n",
       "      <td>0</td>\n",
       "    </tr>\n",
       "  </tbody>\n",
       "</table>\n",
       "</div>"
      ],
      "text/plain": [
       "DeviceInfo     nan  Trident/7.0  iOS Device  Windows  MacOS\n",
       "TransactionID                                              \n",
       "3728372          0            0           0        0      0\n",
       "4009092          0            0           0        0      0\n",
       "4113330          0            0           0        0      0\n",
       "3948895          0            0           0        0      0\n",
       "3766285          0            0           0        0      0\n",
       "4018040          0            0           0        0      0\n",
       "4028524          0            0           0        0      1\n",
       "4021889          0            0           0        0      0\n",
       "4162621          0            0           0        0      0\n",
       "3953945          0            0           0        0      0"
      ]
     },
     "execution_count": 152,
     "metadata": {},
     "output_type": "execute_result"
    }
   ],
   "source": [
    "pd.get_dummies(df['DeviceInfo'], dummy_na=False).sample(10)"
   ]
  },
  {
   "cell_type": "code",
   "execution_count": null,
   "metadata": {},
   "outputs": [],
   "source": []
  }
 ],
 "metadata": {
  "kernelspec": {
   "display_name": "Python 3",
   "language": "python",
   "name": "python3"
  },
  "language_info": {
   "codemirror_mode": {
    "name": "ipython",
    "version": 3
   },
   "file_extension": ".py",
   "mimetype": "text/x-python",
   "name": "python",
   "nbconvert_exporter": "python",
   "pygments_lexer": "ipython3",
   "version": "3.6.9"
  }
 },
 "nbformat": 4,
 "nbformat_minor": 2
}
