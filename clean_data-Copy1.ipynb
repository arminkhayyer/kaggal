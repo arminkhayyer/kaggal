{
 "cells": [
  {
   "cell_type": "code",
   "execution_count": 1,
   "metadata": {},
   "outputs": [],
   "source": [
    "import numpy as np\n",
    "import pandas as pd\n",
    "import collections\n",
    "import matplotlib.pyplot as plt\n",
    "import pickle\n",
    "from utility import *\n",
    "%load_ext autoreload\n",
    "%autoreload 2"
   ]
  },
  {
   "cell_type": "code",
   "execution_count": 2,
   "metadata": {},
   "outputs": [],
   "source": [
    "df1 = pd.read_csv('data/train_transaction.csv')\n",
    "df2 = pd.read_csv('data/train_identity.csv')"
   ]
  },
  {
   "cell_type": "code",
   "execution_count": 3,
   "metadata": {},
   "outputs": [],
   "source": [
    "def getEmailService(x):\n",
    "    if type(x) != str:\n",
    "        return ''\n",
    "    xSplit = x.split('.', maxsplit=1)\n",
    "    return xSplit[0].replace('ymail', 'yahoo')\n",
    "def getEmailDomain(x):\n",
    "    if type(x) != str:\n",
    "        return ''\n",
    "    xSplit = x.split('.', maxsplit=1)\n",
    "    if len(xSplit) > 1:\n",
    "        return xSplit[1]\n",
    "    return ''\n",
    "def mergeTransactionAndIdentity(df1, df2):\n",
    "    df1.index = df1['TransactionID']\n",
    "    df2.index = df2['TransactionID']\n",
    "    del df1['TransactionID']\n",
    "    del df2['TransactionID']\n",
    "    df = df1.join(df2)\n",
    "    return df\n",
    "\n",
    "def cleanEmails(df):\n",
    "    dfEmails = df[['P_emaildomain', 'R_emaildomain']]\n",
    "    df['P_emailservice'] = dfEmails['P_emaildomain'].map(getEmailService)\n",
    "    df['P_emaildomain']  = dfEmails['P_emaildomain'].map(getEmailDomain)\n",
    "    df['R_emailservice'] = dfEmails['R_emaildomain'].map(getEmailService)\n",
    "    df['R_emaildomain']  = dfEmails['R_emaildomain'].map(getEmailDomain)      \n",
    "    \n",
    "Params = collections.namedtuple('Params', \n",
    "                                \"\"\"lowPercentColumns midPercentColumns midAndLowPercentColumns \n",
    "                                highPercentColumns categoricalColumns categoricalOptions\"\"\")\n",
    "\n",
    "def cleanTrainingData(df):\n",
    "    categoricalColumns = df.columns[df.dtypes==object]\n",
    "    numericColumns = df.columns[df.dtypes!=object]   \n",
    "    \n",
    "    percentNa = df[numericColumns].isna().sum()/ len(df)\n",
    "    ####\n",
    "    lowPercentColumns = numericColumns[(percentNa < .3) & (percentNa > 0)]\n",
    "    ###\n",
    "    midPercentColumns = numericColumns[(percentNa >= .3) & (percentNa < .7)]\n",
    "    ###\n",
    "    midAndLowPercentColumns = numericColumns[percentNa < .7]   \n",
    "    highPercentColumns = numericColumns[percentNa >= .7]   \n",
    "    #for column in lowPercentColumns:\n",
    "    #    df[column] = df[column].fillna(df[column].mean())\n",
    "    #for column in midPercentColumns:\n",
    "    #    df[\"%s_isnan\"%column] = df[column].isna()\n",
    "    #    df[column] = df[column].fillna(df[column].mean())\n",
    "    ###\n",
    "    categoricalColumns= categoricalColumns\n",
    "    #categoricalColumnsExceptEmail.remove('P_emaildomain')\n",
    "    #categoricalColumnsExceptEmail.remove('R_emaildomain')\n",
    "    ###\n",
    "    categoricalOptions = {column: categoricalWithTooManyOptions(df, column) for column in categoricalColumns}\n",
    "    #for column in categoricalColumnsExceptEmail:\n",
    "    #    df[column] = cleanedCategoricalWithTooManyOptions(df, column, highlyOccuring=categoricalOptions[column])\n",
    "    #dfCategoricalExceptEmailDummied = pd.get_dummies(df[categoricalColumnsExceptEmail])\n",
    "    #print(dfCategoricalExceptEmailDummied.columns)\n",
    "\n",
    "    #emailColumns = ['P_emailservice', 'P_emaildomain', 'R_emailservice', 'R_emaildomain'] \n",
    "    ###\n",
    "    #emailOptions = {column: categoricalWithTooManyOptions(df, column) for column in emailColumns}\n",
    "    #for column in emailColumns:\n",
    "    #    df[column] = cleanedCategoricalWithTooManyOptions(df, column, highlyOccuring=emailOptions[column])\n",
    "    #dfEmailDummied = pd.get_dummies(df[emailColumns])\n",
    "    params = Params(lowPercentColumns, \n",
    "           midPercentColumns,\n",
    "           midAndLowPercentColumns,\n",
    "           highPercentColumns,\n",
    "           categoricalColumns,\n",
    "           categoricalOptions\n",
    "    )\n",
    "    return params"
   ]
  },
  {
   "cell_type": "code",
   "execution_count": 4,
   "metadata": {},
   "outputs": [],
   "source": [
    "df = mergeTransactionAndIdentity(df1, df2)"
   ]
  },
  {
   "cell_type": "code",
   "execution_count": 5,
   "metadata": {},
   "outputs": [],
   "source": [
    "cleanEmails(df)"
   ]
  },
  {
   "cell_type": "code",
   "execution_count": 6,
   "metadata": {},
   "outputs": [],
   "source": [
    "#del df1\n",
    "#del df2"
   ]
  },
  {
   "cell_type": "code",
   "execution_count": 7,
   "metadata": {},
   "outputs": [],
   "source": [
    "params = cleanTrainingData(df)"
   ]
  },
  {
   "cell_type": "code",
   "execution_count": 8,
   "metadata": {},
   "outputs": [],
   "source": [
    "#tmp = df.drop(params['highPercentColumns'])\n",
    "#tmp.columns[tmp.isna().sum() > 0]\n",
    "df.drop(params.highPercentColumns, inplace=True, axis=1)"
   ]
  },
  {
   "cell_type": "code",
   "execution_count": 9,
   "metadata": {},
   "outputs": [
    {
     "data": {
      "text/plain": [
       "245"
      ]
     },
     "execution_count": 9,
     "metadata": {},
     "output_type": "execute_result"
    }
   ],
   "source": [
    "len(df.columns)"
   ]
  },
  {
   "cell_type": "code",
   "execution_count": 10,
   "metadata": {},
   "outputs": [
    {
     "data": {
      "text/plain": [
       "(array([115.,  69.,  20.,   0.,  18.,   5.,   1.,  11.,   4.,   2.]),\n",
       " array([0.        , 0.0991247 , 0.1982494 , 0.2973741 , 0.3964988 ,\n",
       "        0.4956235 , 0.5947482 , 0.6938729 , 0.7929976 , 0.89212229,\n",
       "        0.99124699]),\n",
       " <a list of 10 Patch objects>)"
      ]
     },
     "execution_count": 10,
     "metadata": {},
     "output_type": "execute_result"
    },
    {
     "data": {
      "image/png": "[encoded data removed]",
      "text/plain": [
       "<Figure size 432x288 with 1 Axes>"
      ]
     },
     "metadata": {},
     "output_type": "display_data"
    }
   ],
   "source": [
    "percentNa = df.isna().sum()/ len(df)\n",
    "plt.hist(percentNa)"
   ]
  },
  {
   "cell_type": "code",
   "execution_count": 11,
   "metadata": {},
   "outputs": [],
   "source": [
    "cleanNumericColumn(df, params.lowPercentColumns, createFlag=False)\n",
    "cleanNumericColumn(df, params.midPercentColumns, createFlag=True)"
   ]
  },
  {
   "cell_type": "code",
   "execution_count": 12,
   "metadata": {},
   "outputs": [
    {
     "data": {
      "text/plain": [
       "(array([235.,   0.,   1.,   0.,   4.,   4.,   0.,  11.,   4.,   2.]),\n",
       " array([0.        , 0.0991247 , 0.1982494 , 0.2973741 , 0.3964988 ,\n",
       "        0.4956235 , 0.5947482 , 0.6938729 , 0.7929976 , 0.89212229,\n",
       "        0.99124699]),\n",
       " <a list of 10 Patch objects>)"
      ]
     },
     "execution_count": 12,
     "metadata": {},
     "output_type": "execute_result"
    },
    {
     "data": {
      "image/png": "[encoded data removed]",
      "text/plain": [
       "<Figure size 432x288 with 1 Axes>"
      ]
     },
     "metadata": {},
     "output_type": "display_data"
    }
   ],
   "source": [
    "#df.drop(params.highPercentColumns\n",
    "percentNa = df.isna().sum()/ len(df)\n",
    "plt.hist(percentNa)"
   ]
  },
  {
   "cell_type": "code",
   "execution_count": 13,
   "metadata": {},
   "outputs": [],
   "source": [
    "for column, highlyOccuring in params.categoricalOptions.items():\n",
    "    #print(column, highlyOccuring)\n",
    "    cleanOptions(df, column, highlyOccuring)"
   ]
  },
  {
   "cell_type": "code",
   "execution_count": 14,
   "metadata": {},
   "outputs": [
    {
     "data": {
      "text/plain": [
       "(array([235.,   0.,   1.,   0.,   4.,   4.,   0.,  11.,   4.,   2.]),\n",
       " array([0.        , 0.0991247 , 0.1982494 , 0.2973741 , 0.3964988 ,\n",
       "        0.4956235 , 0.5947482 , 0.6938729 , 0.7929976 , 0.89212229,\n",
       "        0.99124699]),\n",
       " <a list of 10 Patch objects>)"
      ]
     },
     "execution_count": 14,
     "metadata": {},
     "output_type": "execute_result"
    },
    {
     "data": {
      "image/png": "[encoded data removed]",
      "text/plain": [
       "<Figure size 432x288 with 1 Axes>"
      ]
     },
     "metadata": {},
     "output_type": "display_data"
    }
   ],
   "source": [
    "#df.drop(params.highPercentColumns\n",
    "percentNa = df.isna().sum()/ len(df)\n",
    "plt.hist(percentNa)"
   ]
  },
  {
   "cell_type": "code",
   "execution_count": 25,
   "metadata": {},
   "outputs": [],
   "source": [
    "df_new = pd.get_dummies(df, columns=params.categoricalColumns)"
   ]
  },
  {
   "cell_type": "code",
   "execution_count": 26,
   "metadata": {},
   "outputs": [
    {
     "data": {
      "text/plain": [
       "(array([  0.,   0.,   0.,   0.,   0., 329.,   0.,   0.,   0.,   0.]),\n",
       " array([-0.5, -0.4, -0.3, -0.2, -0.1,  0. ,  0.1,  0.2,  0.3,  0.4,  0.5]),\n",
       " <a list of 10 Patch objects>)"
      ]
     },
     "execution_count": 26,
     "metadata": {},
     "output_type": "execute_result"
    },
    {
     "data": {
      "image/png": "[encoded data removed]",
      "text/plain": [
       "<Figure size 432x288 with 1 Axes>"
      ]
     },
     "metadata": {},
     "output_type": "display_data"
    }
   ],
   "source": [
    "#df.drop(params.highPercentColumns\n",
    "percentNa = df_new.isna().sum()/ len(df_new)\n",
    "plt.hist(percentNa)"
   ]
  },
  {
   "cell_type": "code",
   "execution_count": 15,
   "metadata": {},
   "outputs": [
    {
     "data": {
      "text/plain": [
       "Index(['M1', 'M2', 'M3', 'M4', 'M5', 'M6', 'M7', 'M8', 'M9', 'id_12', 'id_15',\n",
       "       'id_16', 'id_23', 'id_27', 'id_28', 'id_29', 'id_30', 'id_31', 'id_33',\n",
       "       'id_34', 'id_35', 'id_36', 'id_37', 'id_38', 'DeviceType',\n",
       "       'DeviceInfo'],\n",
       "      dtype='object')"
      ]
     },
     "execution_count": 15,
     "metadata": {},
     "output_type": "execute_result"
    }
   ],
   "source": [
    "df.columns[df.isna().sum() > 0]"
   ]
  },
  {
   "cell_type": "code",
   "execution_count": 22,
   "metadata": {},
   "outputs": [
    {
     "data": {
      "text/plain": [
       "0.4590713584177194"
      ]
     },
     "execution_count": 22,
     "metadata": {},
     "output_type": "execute_result"
    }
   ],
   "source": [
    "df['M1'].isna().sum()/len(df)"
   ]
  },
  {
   "cell_type": "code",
   "execution_count": 24,
   "metadata": {},
   "outputs": [
    {
     "data": {
      "text/plain": [
       "True"
      ]
     },
     "execution_count": 24,
     "metadata": {},
     "output_type": "execute_result"
    }
   ],
   "source": [
    "df['M1'].dtypes"
   ]
  },
  {
   "cell_type": "code",
   "execution_count": 18,
   "metadata": {},
   "outputs": [],
   "source": [
    "a = set(params.categoricalColumns)"
   ]
  },
  {
   "cell_type": "code",
   "execution_count": 19,
   "metadata": {},
   "outputs": [],
   "source": [
    "b = set(params.categoricalOptions.keys())"
   ]
  },
  {
   "cell_type": "code",
   "execution_count": 24,
   "metadata": {},
   "outputs": [
    {
     "data": {
      "text/plain": [
       "True"
      ]
     },
     "execution_count": 24,
     "metadata": {},
     "output_type": "execute_result"
    }
   ],
   "source": [
    "'M1' in a"
   ]
  },
  {
   "cell_type": "code",
   "execution_count": null,
   "metadata": {},
   "outputs": [],
   "source": []
  }
 ],
 "metadata": {
  "kernelspec": {
   "display_name": "Python 3",
   "language": "python",
   "name": "python3"
  },
  "language_info": {
   "codemirror_mode": {
    "name": "ipython",
    "version": 3
   },
   "file_extension": ".py",
   "mimetype": "text/x-python",
   "name": "python",
   "nbconvert_exporter": "python",
   "pygments_lexer": "ipython3",
   "version": "3.6.9"
  }
 },
 "nbformat": 4,
 "nbformat_minor": 2
}
