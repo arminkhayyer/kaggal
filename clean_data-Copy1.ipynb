{
 "cells": [
  {
   "cell_type": "code",
   "execution_count": 1,
   "metadata": {},
   "outputs": [],
   "source": [
    "import numpy as np\n",
    "import pandas as pd\n",
    "import collections\n",
    "import matplotlib.pyplot as plt\n",
    "import pickle\n",
    "from utility import *\n",
    "%load_ext autoreload\n",
    "%autoreload 2"
   ]
  },
  {
   "cell_type": "code",
   "execution_count": 2,
   "metadata": {},
   "outputs": [],
   "source": [
    "df1 = pd.read_csv('data/test_transaction.csv')\n",
    "df2 = pd.read_csv('data/test_identity.csv')"
   ]
  },
  {
   "cell_type": "code",
   "execution_count": 3,
   "metadata": {},
   "outputs": [],
   "source": [
    "def getEmailService(x):\n",
    "    if type(x) != str:\n",
    "        return ''\n",
    "    xSplit = x.split('.', maxsplit=1)\n",
    "    return xSplit[0].replace('ymail', 'yahoo')\n",
    "def getEmailDomain(x):\n",
    "    if type(x) != str:\n",
    "        return ''\n",
    "    xSplit = x.split('.', maxsplit=1)\n",
    "    if len(xSplit) > 1:\n",
    "        return xSplit[1]\n",
    "    return ''\n",
    "def mergeTransactionAndIdentity(df1, df2):\n",
    "    df1.index = df1['TransactionID']\n",
    "    df2.index = df2['TransactionID']\n",
    "    del df1['TransactionID']\n",
    "    del df2['TransactionID']\n",
    "    df = df1.join(df2)\n",
    "    return df\n",
    "\n",
    "def cleanEmails(df):\n",
    "    dfEmails = df[['P_emaildomain', 'R_emaildomain']]\n",
    "    df['P_emailservice'] = dfEmails['P_emaildomain'].map(getEmailService)\n",
    "    df['P_emaildomain']  = dfEmails['P_emaildomain'].map(getEmailDomain)\n",
    "    df['R_emailservice'] = dfEmails['R_emaildomain'].map(getEmailService)\n",
    "    df['R_emaildomain']  = dfEmails['R_emaildomain'].map(getEmailDomain)      \n",
    "    \n",
    "Params = collections.namedtuple('Params', \n",
    "                                \"\"\"lowPercentColumns midPercentColumns midAndLowPercentColumns \n",
    "                                highPercentColumns categoricalColumns categoricalOptions\"\"\")\n",
    "\n",
    "def cleanTrainingData(df):\n",
    "    categoricalColumns = df.columns[df.dtypes==object]\n",
    "    numericColumns = df.columns[df.dtypes!=object]   \n",
    "    \n",
    "    percentNa = df[numericColumns].isna().sum()/ len(df)\n",
    "    ####\n",
    "    lowPercentColumns = numericColumns[(percentNa < .3) & (percentNa > 0)]\n",
    "    ###\n",
    "    midPercentColumns = numericColumns[(percentNa >= .3) & (percentNa < .7)]\n",
    "    ###\n",
    "    midAndLowPercentColumns = numericColumns[percentNa < .7]   \n",
    "    highPercentColumns = numericColumns[percentNa >= .7]   \n",
    "    #for column in lowPercentColumns:\n",
    "    #    df[column] = df[column].fillna(df[column].mean())\n",
    "    #for column in midPercentColumns:\n",
    "    #    df[\"%s_isnan\"%column] = df[column].isna()\n",
    "    #    df[column] = df[column].fillna(df[column].mean())\n",
    "    ###\n",
    "    categoricalColumns= categoricalColumns\n",
    "    #categoricalColumnsExceptEmail.remove('P_emaildomain')\n",
    "    #categoricalColumnsExceptEmail.remove('R_emaildomain')\n",
    "    ###\n",
    "    categoricalOptions = {column: categoricalWithTooManyOptions(df, column) for column in categoricalColumns}\n",
    "    #for column in categoricalColumnsExceptEmail:\n",
    "    #    df[column] = cleanedCategoricalWithTooManyOptions(df, column, highlyOccuring=categoricalOptions[column])\n",
    "    #dfCategoricalExceptEmailDummied = pd.get_dummies(df[categoricalColumnsExceptEmail])\n",
    "    #print(dfCategoricalExceptEmailDummied.columns)\n",
    "\n",
    "    #emailColumns = ['P_emailservice', 'P_emaildomain', 'R_emailservice', 'R_emaildomain'] \n",
    "    ###\n",
    "    #emailOptions = {column: categoricalWithTooManyOptions(df, column) for column in emailColumns}\n",
    "    #for column in emailColumns:\n",
    "    #    df[column] = cleanedCategoricalWithTooManyOptions(df, column, highlyOccuring=emailOptions[column])\n",
    "    #dfEmailDummied = pd.get_dummies(df[emailColumns])\n",
    "    params = Params(lowPercentColumns, \n",
    "           midPercentColumns,\n",
    "           midAndLowPercentColumns,\n",
    "           highPercentColumns,\n",
    "           categoricalColumns,\n",
    "           categoricalOptions\n",
    "    )\n",
    "    return params"
   ]
  },
  {
   "cell_type": "code",
   "execution_count": 4,
   "metadata": {},
   "outputs": [],
   "source": [
    "df = mergeTransactionAndIdentity(df1, df2)"
   ]
  },
  {
   "cell_type": "code",
   "execution_count": 5,
   "metadata": {},
   "outputs": [],
   "source": [
    "cleanEmails(df)"
   ]
  },
  {
   "cell_type": "code",
   "execution_count": 6,
   "metadata": {},
   "outputs": [],
   "source": [
    "#del df1\n",
    "#del df2"
   ]
  },
  {
   "cell_type": "code",
   "execution_count": 7,
   "metadata": {},
   "outputs": [],
   "source": [
    "#params = cleanTrainingData(df)"
   ]
  },
  {
   "cell_type": "code",
   "execution_count": 8,
   "metadata": {},
   "outputs": [],
   "source": [
    "with open('./params', 'rb') as f:\n",
    "    params = pickle.load(f)\n",
    "    #pickle.dump(params, f)"
   ]
  },
  {
   "cell_type": "code",
   "execution_count": 9,
   "metadata": {},
   "outputs": [],
   "source": [
    "#tmp = df.drop(params['highPercentColumns'])\n",
    "#tmp.columns[tmp.isna().sum() > 0]\n",
    "df.drop(params.highPercentColumns, inplace=True, axis=1)"
   ]
  },
  {
   "cell_type": "code",
   "execution_count": 10,
   "metadata": {},
   "outputs": [
    {
     "data": {
      "text/plain": [
       "244"
      ]
     },
     "execution_count": 10,
     "metadata": {},
     "output_type": "execute_result"
    }
   ],
   "source": [
    "len(df.columns)"
   ]
  },
  {
   "cell_type": "code",
   "execution_count": 11,
   "metadata": {},
   "outputs": [
    {
     "data": {
      "text/plain": [
       "(array([181.,  21.,   0.,  16.,   7.,   1.,   1.,  12.,   3.,   2.]),\n",
       " array([0.        , 0.09900097, 0.19800194, 0.29700291, 0.39600388,\n",
       "        0.49500485, 0.59400581, 0.69300678, 0.79200775, 0.89100872,\n",
       "        0.99000969]),\n",
       " <a list of 10 Patch objects>)"
      ]
     },
     "execution_count": 11,
     "metadata": {},
     "output_type": "execute_result"
    },
    {
     "data": {
      "image/png": "[encoded data removed]",
      "text/plain": [
       "<Figure size 432x288 with 1 Axes>"
      ]
     },
     "metadata": {},
     "output_type": "display_data"
    }
   ],
   "source": [
    "percentNa = df.isna().sum()/ len(df)\n",
    "plt.hist(percentNa)"
   ]
  },
  {
   "cell_type": "code",
   "execution_count": 12,
   "metadata": {},
   "outputs": [],
   "source": [
    "cleanNumericColumn(df, params.lowPercentColumns, createFlag=False)\n",
    "cleanNumericColumn(df, params.midPercentColumns, createFlag=True)"
   ]
  },
  {
   "cell_type": "code",
   "execution_count": 13,
   "metadata": {},
   "outputs": [
    {
     "data": {
      "text/plain": [
       "(array([234.,   0.,   0.,   4.,   4.,   0.,   1.,  12.,   3.,   2.]),\n",
       " array([0.        , 0.09900097, 0.19800194, 0.29700291, 0.39600388,\n",
       "        0.49500485, 0.59400581, 0.69300678, 0.79200775, 0.89100872,\n",
       "        0.99000969]),\n",
       " <a list of 10 Patch objects>)"
      ]
     },
     "execution_count": 13,
     "metadata": {},
     "output_type": "execute_result"
    },
    {
     "data": {
      "image/png": "[encoded data removed]",
      "text/plain": [
       "<Figure size 432x288 with 1 Axes>"
      ]
     },
     "metadata": {},
     "output_type": "display_data"
    }
   ],
   "source": [
    "#df.drop(params.highPercentColumns\n",
    "percentNa = df.isna().sum()/ len(df)\n",
    "plt.hist(percentNa)"
   ]
  },
  {
   "cell_type": "code",
   "execution_count": 14,
   "metadata": {},
   "outputs": [],
   "source": [
    "for column, highlyOccuring in params.categoricalOptions.items():\n",
    "    for item in highlyOccuring:\n",
    "        if pd.isna(item):\n",
    "            highlyOccuring.remove(item)\n",
    "            highlyOccuring.add('nan')\n",
    "    df[column] = pd.Categorical(df[column], categories=list(highlyOccuring))\n",
    "    #cleanOptions(df, column, highlyOccuring)"
   ]
  },
  {
   "cell_type": "code",
   "execution_count": 15,
   "metadata": {},
   "outputs": [
    {
     "data": {
      "text/plain": [
       "(array([234.,   0.,   0.,   4.,   4.,   0.,   1.,  10.,   2.,   5.]),\n",
       " array([0. , 0.1, 0.2, 0.3, 0.4, 0.5, 0.6, 0.7, 0.8, 0.9, 1. ]),\n",
       " <a list of 10 Patch objects>)"
      ]
     },
     "execution_count": 15,
     "metadata": {},
     "output_type": "execute_result"
    },
    {
     "data": {
      "image/png": "[encoded data removed]",
      "text/plain": [
       "<Figure size 432x288 with 1 Axes>"
      ]
     },
     "metadata": {},
     "output_type": "display_data"
    }
   ],
   "source": [
    "#df.drop(params.highPercentColumns\n",
    "percentNa = df.isna().sum()/ len(df)\n",
    "plt.hist(percentNa)"
   ]
  },
  {
   "cell_type": "code",
   "execution_count": 16,
   "metadata": {},
   "outputs": [],
   "source": [
    "#tmp = df[params.]\n",
    "#a = set(params.midAndLowPercentColumns)\n",
    "#a.remove('isFraud')\n",
    "#tmp = df.[list(a)]\n",
    "#cleanNumericColumn(df, tmp.columns[tmp.isna().sum() > 0], createFlag=False) "
   ]
  },
  {
   "cell_type": "code",
   "execution_count": 17,
   "metadata": {},
   "outputs": [],
   "source": [
    "##tmp = df[params.]\n",
    "##a.remove('isFraud')\n",
    "#tmp = df[params.categoricalColumns]\n",
    "#for column in tmp.columns[tmp.isna().sum() > 0]:"
   ]
  },
  {
   "cell_type": "code",
   "execution_count": 19,
   "metadata": {},
   "outputs": [],
   "source": [
    "#df_new = pd.get_dummies(df, columns=params.categoricalColumns)\n",
    "#for key, value in params.categoricalOptions.items():\n",
    "df_new = pd.get_dummies(df, columns=params.categoricalColumns, dummy_na=True)"
   ]
  },
  {
   "cell_type": "code",
   "execution_count": 20,
   "metadata": {},
   "outputs": [
    {
     "data": {
      "text/plain": [
       "(array([372.,   0.,   0.,   0.,   0.,   0.,   0.,   0.,   0.,   1.]),\n",
       " array([0.        , 0.00093706, 0.00187412, 0.00281118, 0.00374824,\n",
       "        0.0046853 , 0.00562236, 0.00655942, 0.00749648, 0.00843354,\n",
       "        0.0093706 ]),\n",
       " <a list of 10 Patch objects>)"
      ]
     },
     "execution_count": 20,
     "metadata": {},
     "output_type": "execute_result"
    },
    {
     "data": {
      "image/png": "[encoded data removed]",
      "text/plain": [
       "<Figure size 432x288 with 1 Axes>"
      ]
     },
     "metadata": {},
     "output_type": "display_data"
    }
   ],
   "source": [
    "#df.drop(params.highPercentColumns\n",
    "percentNa = df_new.isna().sum()/ len(df_new)\n",
    "plt.hist(percentNa)"
   ]
  },
  {
   "cell_type": "code",
   "execution_count": 41,
   "metadata": {},
   "outputs": [],
   "source": [
    "cleanNumericColumn(df_new, df_new.columns[df_new.isna().sum()>0], createFlag=False)"
   ]
  },
  {
   "cell_type": "code",
   "execution_count": 42,
   "metadata": {},
   "outputs": [
    {
     "data": {
      "text/plain": [
       "(array([  0.,   0.,   0.,   0.,   0., 373.,   0.,   0.,   0.,   0.]),\n",
       " array([-0.5, -0.4, -0.3, -0.2, -0.1,  0. ,  0.1,  0.2,  0.3,  0.4,  0.5]),\n",
       " <a list of 10 Patch objects>)"
      ]
     },
     "execution_count": 42,
     "metadata": {},
     "output_type": "execute_result"
    },
    {
     "data": {
      "image/png": "[encoded data removed]",
      "text/plain": [
       "<Figure size 432x288 with 1 Axes>"
      ]
     },
     "metadata": {},
     "output_type": "display_data"
    }
   ],
   "source": [
    "#df.drop(params.highPercentColumns\n",
    "percentNa = df_new.isna().sum()/ len(df_new)\n",
    "plt.hist(percentNa)"
   ]
  },
  {
   "cell_type": "code",
   "execution_count": 40,
   "metadata": {},
   "outputs": [
    {
     "data": {
      "text/plain": [
       "Index(['C1', 'C2', 'C3', 'C4', 'C5', 'C6', 'C7', 'C8', 'C9', 'C10', 'C11',\n",
       "       'C12', 'C13', 'C14'],\n",
       "      dtype='object')"
      ]
     },
     "execution_count": 40,
     "metadata": {},
     "output_type": "execute_result"
    }
   ],
   "source": []
  },
  {
   "cell_type": "code",
   "execution_count": 43,
   "metadata": {},
   "outputs": [],
   "source": [
    "#df_train = pd.read_pickle('data/dataframe_v03.pd')\n",
    "#pd.to_pickle(df_new, 'data/dataframe_test_v03.pd')"
   ]
  },
  {
   "cell_type": "code",
   "execution_count": 34,
   "metadata": {},
   "outputs": [],
   "source": [
    "traincols = set(df_train.columns)"
   ]
  },
  {
   "cell_type": "code",
   "execution_count": 35,
   "metadata": {},
   "outputs": [],
   "source": [
    "testcols = set(df_new.columns)"
   ]
  },
  {
   "cell_type": "code",
   "execution_count": 36,
   "metadata": {},
   "outputs": [
    {
     "name": "stdout",
     "output_type": "stream",
     "text": [
      "{'isFraud'}\n",
      "set()\n"
     ]
    }
   ],
   "source": [
    "print(traincols - testcols)\n",
    "print(testcols - traincols)"
   ]
  },
  {
   "cell_type": "code",
   "execution_count": 44,
   "metadata": {},
   "outputs": [
    {
     "data": {
      "text/plain": [
       "(506691, 373)"
      ]
     },
     "execution_count": 44,
     "metadata": {},
     "output_type": "execute_result"
    }
   ],
   "source": [
    "df_new.shape"
   ]
  },
  {
   "cell_type": "code",
   "execution_count": 37,
   "metadata": {},
   "outputs": [
    {
     "data": {
      "text/plain": [
       "Index(['TransactionDT', 'TransactionAmt', 'card1', 'card2', 'card3', 'card5',\n",
       "       'addr1', 'addr2', 'dist1', 'C1',\n",
       "       ...\n",
       "       'P_emailservice_comcast', 'P_emailservice_icloud',\n",
       "       'P_emailservice_anonymous', 'P_emailservice_nan', 'R_emailservice_',\n",
       "       'R_emailservice_gmail', 'R_emailservice_hotmail',\n",
       "       'R_emailservice_yahoo', 'R_emailservice_anonymous',\n",
       "       'R_emailservice_nan'],\n",
       "      dtype='object', length=373)"
      ]
     },
     "execution_count": 37,
     "metadata": {},
     "output_type": "execute_result"
    }
   ],
   "source": [
    "df[]"
   ]
  },
  {
   "cell_type": "code",
   "execution_count": 50,
   "metadata": {},
   "outputs": [
    {
     "data": {
      "text/plain": [
       "Index([], dtype='object')"
      ]
     },
     "execution_count": 50,
     "metadata": {},
     "output_type": "execute_result"
    }
   ],
   "source": [
    "df_train.columns[df_train.dtypes == str]"
   ]
  },
  {
   "cell_type": "code",
   "execution_count": 52,
   "metadata": {},
   "outputs": [
    {
     "data": {
      "text/plain": [
       "Counter({dtype('int64'): 3,\n",
       "         dtype('float64'): 209,\n",
       "         dtype('bool'): 16,\n",
       "         dtype('uint8'): 146})"
      ]
     },
     "execution_count": 52,
     "metadata": {},
     "output_type": "execute_result"
    }
   ],
   "source": [
    "collections.Counter(df_train.dtypes)"
   ]
  },
  {
   "cell_type": "code",
   "execution_count": null,
   "metadata": {},
   "outputs": [],
   "source": []
  }
 ],
 "metadata": {
  "kernelspec": {
   "display_name": "Python 3",
   "language": "python",
   "name": "python3"
  },
  "language_info": {
   "codemirror_mode": {
    "name": "ipython",
    "version": 3
   },
   "file_extension": ".py",
   "mimetype": "text/x-python",
   "name": "python",
   "nbconvert_exporter": "python",
   "pygments_lexer": "ipython3",
   "version": "3.6.9"
  }
 },
 "nbformat": 4,
 "nbformat_minor": 2
}
